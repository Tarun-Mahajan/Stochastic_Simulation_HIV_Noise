{
 "cells": [
  {
   "cell_type": "markdown",
   "metadata": {},
   "source": [
    "# Script to recreate results from the paper"
   ]
  },
  {
   "cell_type": "markdown",
   "metadata": {},
   "source": [
    "### Load the required packages"
   ]
  },
  {
   "cell_type": "code",
   "execution_count": 1,
   "metadata": {},
   "outputs": [
    {
     "name": "stderr",
     "output_type": "stream",
     "text": [
      "Loading required package: foreach\n",
      "\n",
      "Loading required package: iterators\n",
      "\n",
      "Loading required package: snow\n",
      "\n",
      "Loading required package: ggplot2\n",
      "\n",
      "\n",
      "Attaching package: ‘cowplot’\n",
      "\n",
      "\n",
      "The following object is masked from ‘package:ggpubr’:\n",
      "\n",
      "    get_legend\n",
      "\n",
      "\n"
     ]
    }
   ],
   "source": [
    "library(Matrix)\n",
    "library(GillespieSSA2)\n",
    "library(doSNOW)\n",
    "library(foreach)\n",
    "library(ggpubr)\n",
    "library(cowplot)"
   ]
  },
  {
   "cell_type": "markdown",
   "metadata": {},
   "source": [
    "### Create cluster to use foreach for parallel computation"
   ]
  },
  {
   "cell_type": "code",
   "execution_count": 2,
   "metadata": {},
   "outputs": [
    {
     "data": {
      "text/html": [
       "<ol>\n",
       "\t<li><style>\n",
       ".list-inline {list-style: none; margin:0; padding: 0}\n",
       ".list-inline>li {display: inline-block}\n",
       ".list-inline>li:not(:last-child)::after {content: \"\\00b7\"; padding: 0 .5ex}\n",
       "</style>\n",
       "<ol class=list-inline><li>'/home/atheistpoet/R/x86_64-pc-linux-gnu-library/4.0'</li><li>'/usr/local/lib/R/site-library'</li><li>'/usr/lib/R/site-library'</li><li>'/usr/lib/R/library'</li></ol>\n",
       "</li>\n",
       "\t<li><style>\n",
       ".list-inline {list-style: none; margin:0; padding: 0}\n",
       ".list-inline>li {display: inline-block}\n",
       ".list-inline>li:not(:last-child)::after {content: \"\\00b7\"; padding: 0 .5ex}\n",
       "</style>\n",
       "<ol class=list-inline><li>'/home/atheistpoet/R/x86_64-pc-linux-gnu-library/4.0'</li><li>'/usr/local/lib/R/site-library'</li><li>'/usr/lib/R/site-library'</li><li>'/usr/lib/R/library'</li></ol>\n",
       "</li>\n",
       "\t<li><style>\n",
       ".list-inline {list-style: none; margin:0; padding: 0}\n",
       ".list-inline>li {display: inline-block}\n",
       ".list-inline>li:not(:last-child)::after {content: \"\\00b7\"; padding: 0 .5ex}\n",
       "</style>\n",
       "<ol class=list-inline><li>'/home/atheistpoet/R/x86_64-pc-linux-gnu-library/4.0'</li><li>'/usr/local/lib/R/site-library'</li><li>'/usr/lib/R/site-library'</li><li>'/usr/lib/R/library'</li></ol>\n",
       "</li>\n",
       "\t<li><style>\n",
       ".list-inline {list-style: none; margin:0; padding: 0}\n",
       ".list-inline>li {display: inline-block}\n",
       ".list-inline>li:not(:last-child)::after {content: \"\\00b7\"; padding: 0 .5ex}\n",
       "</style>\n",
       "<ol class=list-inline><li>'/home/atheistpoet/R/x86_64-pc-linux-gnu-library/4.0'</li><li>'/usr/local/lib/R/site-library'</li><li>'/usr/lib/R/site-library'</li><li>'/usr/lib/R/library'</li></ol>\n",
       "</li>\n",
       "\t<li><style>\n",
       ".list-inline {list-style: none; margin:0; padding: 0}\n",
       ".list-inline>li {display: inline-block}\n",
       ".list-inline>li:not(:last-child)::after {content: \"\\00b7\"; padding: 0 .5ex}\n",
       "</style>\n",
       "<ol class=list-inline><li>'/home/atheistpoet/R/x86_64-pc-linux-gnu-library/4.0'</li><li>'/usr/local/lib/R/site-library'</li><li>'/usr/lib/R/site-library'</li><li>'/usr/lib/R/library'</li></ol>\n",
       "</li>\n",
       "\t<li><style>\n",
       ".list-inline {list-style: none; margin:0; padding: 0}\n",
       ".list-inline>li {display: inline-block}\n",
       ".list-inline>li:not(:last-child)::after {content: \"\\00b7\"; padding: 0 .5ex}\n",
       "</style>\n",
       "<ol class=list-inline><li>'/home/atheistpoet/R/x86_64-pc-linux-gnu-library/4.0'</li><li>'/usr/local/lib/R/site-library'</li><li>'/usr/lib/R/site-library'</li><li>'/usr/lib/R/library'</li></ol>\n",
       "</li>\n",
       "\t<li><style>\n",
       ".list-inline {list-style: none; margin:0; padding: 0}\n",
       ".list-inline>li {display: inline-block}\n",
       ".list-inline>li:not(:last-child)::after {content: \"\\00b7\"; padding: 0 .5ex}\n",
       "</style>\n",
       "<ol class=list-inline><li>'/home/atheistpoet/R/x86_64-pc-linux-gnu-library/4.0'</li><li>'/usr/local/lib/R/site-library'</li><li>'/usr/lib/R/site-library'</li><li>'/usr/lib/R/library'</li></ol>\n",
       "</li>\n",
       "\t<li><style>\n",
       ".list-inline {list-style: none; margin:0; padding: 0}\n",
       ".list-inline>li {display: inline-block}\n",
       ".list-inline>li:not(:last-child)::after {content: \"\\00b7\"; padding: 0 .5ex}\n",
       "</style>\n",
       "<ol class=list-inline><li>'/home/atheistpoet/R/x86_64-pc-linux-gnu-library/4.0'</li><li>'/usr/local/lib/R/site-library'</li><li>'/usr/lib/R/site-library'</li><li>'/usr/lib/R/library'</li></ol>\n",
       "</li>\n",
       "\t<li><style>\n",
       ".list-inline {list-style: none; margin:0; padding: 0}\n",
       ".list-inline>li {display: inline-block}\n",
       ".list-inline>li:not(:last-child)::after {content: \"\\00b7\"; padding: 0 .5ex}\n",
       "</style>\n",
       "<ol class=list-inline><li>'/home/atheistpoet/R/x86_64-pc-linux-gnu-library/4.0'</li><li>'/usr/local/lib/R/site-library'</li><li>'/usr/lib/R/site-library'</li><li>'/usr/lib/R/library'</li></ol>\n",
       "</li>\n",
       "\t<li><style>\n",
       ".list-inline {list-style: none; margin:0; padding: 0}\n",
       ".list-inline>li {display: inline-block}\n",
       ".list-inline>li:not(:last-child)::after {content: \"\\00b7\"; padding: 0 .5ex}\n",
       "</style>\n",
       "<ol class=list-inline><li>'/home/atheistpoet/R/x86_64-pc-linux-gnu-library/4.0'</li><li>'/usr/local/lib/R/site-library'</li><li>'/usr/lib/R/site-library'</li><li>'/usr/lib/R/library'</li></ol>\n",
       "</li>\n",
       "</ol>\n"
      ],
      "text/latex": [
       "\\begin{enumerate}\n",
       "\\item \\begin{enumerate*}\n",
       "\\item '/home/atheistpoet/R/x86\\_64-pc-linux-gnu-library/4.0'\n",
       "\\item '/usr/local/lib/R/site-library'\n",
       "\\item '/usr/lib/R/site-library'\n",
       "\\item '/usr/lib/R/library'\n",
       "\\end{enumerate*}\n",
       "\n",
       "\\item \\begin{enumerate*}\n",
       "\\item '/home/atheistpoet/R/x86\\_64-pc-linux-gnu-library/4.0'\n",
       "\\item '/usr/local/lib/R/site-library'\n",
       "\\item '/usr/lib/R/site-library'\n",
       "\\item '/usr/lib/R/library'\n",
       "\\end{enumerate*}\n",
       "\n",
       "\\item \\begin{enumerate*}\n",
       "\\item '/home/atheistpoet/R/x86\\_64-pc-linux-gnu-library/4.0'\n",
       "\\item '/usr/local/lib/R/site-library'\n",
       "\\item '/usr/lib/R/site-library'\n",
       "\\item '/usr/lib/R/library'\n",
       "\\end{enumerate*}\n",
       "\n",
       "\\item \\begin{enumerate*}\n",
       "\\item '/home/atheistpoet/R/x86\\_64-pc-linux-gnu-library/4.0'\n",
       "\\item '/usr/local/lib/R/site-library'\n",
       "\\item '/usr/lib/R/site-library'\n",
       "\\item '/usr/lib/R/library'\n",
       "\\end{enumerate*}\n",
       "\n",
       "\\item \\begin{enumerate*}\n",
       "\\item '/home/atheistpoet/R/x86\\_64-pc-linux-gnu-library/4.0'\n",
       "\\item '/usr/local/lib/R/site-library'\n",
       "\\item '/usr/lib/R/site-library'\n",
       "\\item '/usr/lib/R/library'\n",
       "\\end{enumerate*}\n",
       "\n",
       "\\item \\begin{enumerate*}\n",
       "\\item '/home/atheistpoet/R/x86\\_64-pc-linux-gnu-library/4.0'\n",
       "\\item '/usr/local/lib/R/site-library'\n",
       "\\item '/usr/lib/R/site-library'\n",
       "\\item '/usr/lib/R/library'\n",
       "\\end{enumerate*}\n",
       "\n",
       "\\item \\begin{enumerate*}\n",
       "\\item '/home/atheistpoet/R/x86\\_64-pc-linux-gnu-library/4.0'\n",
       "\\item '/usr/local/lib/R/site-library'\n",
       "\\item '/usr/lib/R/site-library'\n",
       "\\item '/usr/lib/R/library'\n",
       "\\end{enumerate*}\n",
       "\n",
       "\\item \\begin{enumerate*}\n",
       "\\item '/home/atheistpoet/R/x86\\_64-pc-linux-gnu-library/4.0'\n",
       "\\item '/usr/local/lib/R/site-library'\n",
       "\\item '/usr/lib/R/site-library'\n",
       "\\item '/usr/lib/R/library'\n",
       "\\end{enumerate*}\n",
       "\n",
       "\\item \\begin{enumerate*}\n",
       "\\item '/home/atheistpoet/R/x86\\_64-pc-linux-gnu-library/4.0'\n",
       "\\item '/usr/local/lib/R/site-library'\n",
       "\\item '/usr/lib/R/site-library'\n",
       "\\item '/usr/lib/R/library'\n",
       "\\end{enumerate*}\n",
       "\n",
       "\\item \\begin{enumerate*}\n",
       "\\item '/home/atheistpoet/R/x86\\_64-pc-linux-gnu-library/4.0'\n",
       "\\item '/usr/local/lib/R/site-library'\n",
       "\\item '/usr/lib/R/site-library'\n",
       "\\item '/usr/lib/R/library'\n",
       "\\end{enumerate*}\n",
       "\n",
       "\\end{enumerate}\n"
      ],
      "text/markdown": [
       "1. 1. '/home/atheistpoet/R/x86_64-pc-linux-gnu-library/4.0'\n",
       "2. '/usr/local/lib/R/site-library'\n",
       "3. '/usr/lib/R/site-library'\n",
       "4. '/usr/lib/R/library'\n",
       "\n",
       "\n",
       "\n",
       "2. 1. '/home/atheistpoet/R/x86_64-pc-linux-gnu-library/4.0'\n",
       "2. '/usr/local/lib/R/site-library'\n",
       "3. '/usr/lib/R/site-library'\n",
       "4. '/usr/lib/R/library'\n",
       "\n",
       "\n",
       "\n",
       "3. 1. '/home/atheistpoet/R/x86_64-pc-linux-gnu-library/4.0'\n",
       "2. '/usr/local/lib/R/site-library'\n",
       "3. '/usr/lib/R/site-library'\n",
       "4. '/usr/lib/R/library'\n",
       "\n",
       "\n",
       "\n",
       "4. 1. '/home/atheistpoet/R/x86_64-pc-linux-gnu-library/4.0'\n",
       "2. '/usr/local/lib/R/site-library'\n",
       "3. '/usr/lib/R/site-library'\n",
       "4. '/usr/lib/R/library'\n",
       "\n",
       "\n",
       "\n",
       "5. 1. '/home/atheistpoet/R/x86_64-pc-linux-gnu-library/4.0'\n",
       "2. '/usr/local/lib/R/site-library'\n",
       "3. '/usr/lib/R/site-library'\n",
       "4. '/usr/lib/R/library'\n",
       "\n",
       "\n",
       "\n",
       "6. 1. '/home/atheistpoet/R/x86_64-pc-linux-gnu-library/4.0'\n",
       "2. '/usr/local/lib/R/site-library'\n",
       "3. '/usr/lib/R/site-library'\n",
       "4. '/usr/lib/R/library'\n",
       "\n",
       "\n",
       "\n",
       "7. 1. '/home/atheistpoet/R/x86_64-pc-linux-gnu-library/4.0'\n",
       "2. '/usr/local/lib/R/site-library'\n",
       "3. '/usr/lib/R/site-library'\n",
       "4. '/usr/lib/R/library'\n",
       "\n",
       "\n",
       "\n",
       "8. 1. '/home/atheistpoet/R/x86_64-pc-linux-gnu-library/4.0'\n",
       "2. '/usr/local/lib/R/site-library'\n",
       "3. '/usr/lib/R/site-library'\n",
       "4. '/usr/lib/R/library'\n",
       "\n",
       "\n",
       "\n",
       "9. 1. '/home/atheistpoet/R/x86_64-pc-linux-gnu-library/4.0'\n",
       "2. '/usr/local/lib/R/site-library'\n",
       "3. '/usr/lib/R/site-library'\n",
       "4. '/usr/lib/R/library'\n",
       "\n",
       "\n",
       "\n",
       "10. 1. '/home/atheistpoet/R/x86_64-pc-linux-gnu-library/4.0'\n",
       "2. '/usr/local/lib/R/site-library'\n",
       "3. '/usr/lib/R/site-library'\n",
       "4. '/usr/lib/R/library'\n",
       "\n",
       "\n",
       "\n",
       "\n",
       "\n"
      ],
      "text/plain": [
       "[[1]]\n",
       "[1] \"/home/atheistpoet/R/x86_64-pc-linux-gnu-library/4.0\"\n",
       "[2] \"/usr/local/lib/R/site-library\"                      \n",
       "[3] \"/usr/lib/R/site-library\"                            \n",
       "[4] \"/usr/lib/R/library\"                                 \n",
       "\n",
       "[[2]]\n",
       "[1] \"/home/atheistpoet/R/x86_64-pc-linux-gnu-library/4.0\"\n",
       "[2] \"/usr/local/lib/R/site-library\"                      \n",
       "[3] \"/usr/lib/R/site-library\"                            \n",
       "[4] \"/usr/lib/R/library\"                                 \n",
       "\n",
       "[[3]]\n",
       "[1] \"/home/atheistpoet/R/x86_64-pc-linux-gnu-library/4.0\"\n",
       "[2] \"/usr/local/lib/R/site-library\"                      \n",
       "[3] \"/usr/lib/R/site-library\"                            \n",
       "[4] \"/usr/lib/R/library\"                                 \n",
       "\n",
       "[[4]]\n",
       "[1] \"/home/atheistpoet/R/x86_64-pc-linux-gnu-library/4.0\"\n",
       "[2] \"/usr/local/lib/R/site-library\"                      \n",
       "[3] \"/usr/lib/R/site-library\"                            \n",
       "[4] \"/usr/lib/R/library\"                                 \n",
       "\n",
       "[[5]]\n",
       "[1] \"/home/atheistpoet/R/x86_64-pc-linux-gnu-library/4.0\"\n",
       "[2] \"/usr/local/lib/R/site-library\"                      \n",
       "[3] \"/usr/lib/R/site-library\"                            \n",
       "[4] \"/usr/lib/R/library\"                                 \n",
       "\n",
       "[[6]]\n",
       "[1] \"/home/atheistpoet/R/x86_64-pc-linux-gnu-library/4.0\"\n",
       "[2] \"/usr/local/lib/R/site-library\"                      \n",
       "[3] \"/usr/lib/R/site-library\"                            \n",
       "[4] \"/usr/lib/R/library\"                                 \n",
       "\n",
       "[[7]]\n",
       "[1] \"/home/atheistpoet/R/x86_64-pc-linux-gnu-library/4.0\"\n",
       "[2] \"/usr/local/lib/R/site-library\"                      \n",
       "[3] \"/usr/lib/R/site-library\"                            \n",
       "[4] \"/usr/lib/R/library\"                                 \n",
       "\n",
       "[[8]]\n",
       "[1] \"/home/atheistpoet/R/x86_64-pc-linux-gnu-library/4.0\"\n",
       "[2] \"/usr/local/lib/R/site-library\"                      \n",
       "[3] \"/usr/lib/R/site-library\"                            \n",
       "[4] \"/usr/lib/R/library\"                                 \n",
       "\n",
       "[[9]]\n",
       "[1] \"/home/atheistpoet/R/x86_64-pc-linux-gnu-library/4.0\"\n",
       "[2] \"/usr/local/lib/R/site-library\"                      \n",
       "[3] \"/usr/lib/R/site-library\"                            \n",
       "[4] \"/usr/lib/R/library\"                                 \n",
       "\n",
       "[[10]]\n",
       "[1] \"/home/atheistpoet/R/x86_64-pc-linux-gnu-library/4.0\"\n",
       "[2] \"/usr/local/lib/R/site-library\"                      \n",
       "[3] \"/usr/lib/R/site-library\"                            \n",
       "[4] \"/usr/lib/R/library\"                                 \n"
      ]
     },
     "metadata": {},
     "output_type": "display_data"
    },
    {
     "name": "stdout",
     "output_type": "stream",
     "text": [
      "\r",
      "  |                                                                            \r",
      "  |                                                                      |   0%"
     ]
    }
   ],
   "source": [
    "num_cores = 10 # num. of cores to use\n",
    "nboot <- 1000 # num. of cells to simulate\n",
    "cl <- makeCluster(num_cores) # create clusters\n",
    "registerDoSNOW(cl) # register clusters\n",
    "clusterEvalQ(cl, .libPaths(\"/home/atheistpoet/R/x86_64-pc-linux-gnu-library/4.0\"))\n",
    "pb <- txtProgressBar(max = nboot, style = 3) # to display progress bars for parallel computation\n",
    "progress <- function(n) setTxtProgressBar(pb, n) # to display progress bars for parallel computation\n",
    "opts <- list(progress = progress) # to display progress bars for parallel computation"
   ]
  },
  {
   "cell_type": "markdown",
   "metadata": {},
   "source": [
    "## Simulations for the untreated case"
   ]
  },
  {
   "cell_type": "markdown",
   "metadata": {},
   "source": [
    "### Setup simulation parameters and initial state"
   ]
  },
  {
   "cell_type": "code",
   "execution_count": 3,
   "metadata": {},
   "outputs": [],
   "source": [
    "# reaction rates\n",
    "rxn_rates = c(0.000208333, 0.002083333, 0.208333333, 0.000115525, 0.032346868, 7.70164E-05) \n",
    "\n",
    "params <- c(kon = rxn_rates[1], koff = rxn_rates[2], km = rxn_rates[3], \n",
    "                   gamma_m = rxn_rates[4], kp = rxn_rates[5], gamma_p = rxn_rates[6])\n",
    "\n",
    "# initial state vector\n",
    "initial_state <- c(Gon = 1, Goff = 0,  \n",
    "            M = floor((rxn_rates[1] * rxn_rates[3])/\n",
    "                      ((rxn_rates[1] + rxn_rates[2]) * rxn_rates[4])), \n",
    "            P = floor((rxn_rates[5])/rxn_rates[6])*\n",
    "              floor((rxn_rates[1] * rxn_rates[3])/\n",
    "                      ((rxn_rates[1] + rxn_rates[2]) * rxn_rates[4])))\n",
    "\n",
    "# reactions in the system\n",
    "reactions <- list(reaction(~kon * Goff, c(Goff = -1, Gon = +1), \"promoter_on\"),  \n",
    "                  reaction(~koff * Gon, c(Goff = +1, Gon = -1), \"promoter_off\"), \n",
    "                  reaction(~km * Gon, c(M = +1), \"transcription\"), \n",
    "                  reaction(~gamma_m * M, c(M = -1), \"mRNA_degradation\"), \n",
    "                  reaction(~kp * M, c(P = +1), \"translation\"), \n",
    "                  reaction(~gamma_p * P, c(P = -1), \"protein_degradation\"))\n",
    "\n",
    "# num. of hours of simulation to use as burn-in\n",
    "skip_hours <- 10"
   ]
  },
  {
   "cell_type": "markdown",
   "metadata": {},
   "source": [
    "### Run simulation using Gillespie's Direct Method (DM)"
   ]
  },
  {
   "cell_type": "code",
   "execution_count": 4,
   "metadata": {},
   "outputs": [
    {
     "name": "stdout",
     "output_type": "stream",
     "text": [
      "  |======================================================================| 100%"
     ]
    }
   ],
   "source": [
    "out.control <- foreach( b = 1:nboot, .options.snow = opts )%dopar%{\n",
    "  set.seed(b)\n",
    "  library(doParallel)\n",
    "  library(GillespieSSA2)\n",
    "  out <-\n",
    "    ssa(\n",
    "      initial_state = initial_state,\n",
    "      reactions = reactions,\n",
    "      params = params,\n",
    "      method = ssa_exact(),\n",
    "      final_time = (20 + skip_hours) * 60 * 60,\n",
    "      census_interval = 10,\n",
    "      verbose = TRUE\n",
    "    )\n",
    "  return(list(time = out$time, Protein = out$state[, 4]))\n",
    "}"
   ]
  },
  {
   "cell_type": "markdown",
   "metadata": {},
   "source": [
    "### Close the cluster"
   ]
  },
  {
   "cell_type": "code",
   "execution_count": 112,
   "metadata": {},
   "outputs": [
    {
     "name": "stdout",
     "output_type": "stream",
     "text": [
      "\n"
     ]
    }
   ],
   "source": [
    "close(pb)\n",
    "stopCluster(cl)"
   ]
  },
  {
   "cell_type": "markdown",
   "metadata": {},
   "source": [
    "### Extract single-cell protein counts at the end of the simulation. Take all single-cell data from all time points; assume that the process is ergodic."
   ]
  },
  {
   "cell_type": "code",
   "execution_count": 5,
   "metadata": {},
   "outputs": [],
   "source": [
    "steady_state <- rep(0, nboot)\n",
    "for( i in 1:nboot ){\n",
    "  steady_state[i] <- out.control[[i]]$Protein[length(out.control[[i]]$Protein)]\n",
    "}\n",
    "mean_val <- mean(steady_state)"
   ]
  },
  {
   "cell_type": "markdown",
   "metadata": {},
   "source": [
    "### Plot for single-cell trajectories protein count"
   ]
  },
  {
   "cell_type": "code",
   "execution_count": 26,
   "metadata": {},
   "outputs": [
    {
     "name": "stderr",
     "output_type": "stream",
     "text": [
      "Scale for 'y' is already present. Adding another scale for 'y', which will\n",
      "replace the existing scale.\n",
      "\n"
     ]
    }
   ],
   "source": [
    "col <- \"gray20\" # color for the single-cell time trajectories\n",
    "\n",
    "# Plot gray region showing threshold region for active HIV replication\n",
    "dat.polygon <- data.frame(x = c(0, 20, 20, 0), \n",
    "                          y = c(3, 3, 4.5, 4.5))\n",
    "p <- ggplot()\n",
    "p <- p + geom_polygon(aes(x = x, y = y), data = dat.polygon, fill = \"gray\", \n",
    "                      col = \"white\", alpha = 0.5) + \n",
    "  geom_text(data = data.frame(x = 10, y = 4, label = \"Active \\n replication\"), \n",
    "            mapping = aes(x = x, y = y, label = label), color = \"black\", size = 5)\n",
    "\n",
    "# Plot the first trajectory\n",
    "# id <- which(out.control[[1]]$time >= skip_hours * 60 * 60)\n",
    "# dat.plot <- data.frame(x = out.control[[1]]$time[id]/(60 * 60) - \n",
    "#                          min(out.control[[1]]$time[id]/(60 * 60)), \n",
    "#                         y = out.control[[1]]$Protein[id]/10^5)\n",
    "# p <- ggline(dat.plot, x = \"x\", y = \"y\", \n",
    "#             numeric.x.axis = T, \n",
    "#             linetype = \"solid\",\n",
    "#             plot_type = c(\"l\"),\n",
    "#             fill = col,           \n",
    "#             color = col,\n",
    "#             sort.by.groups = FALSE,\n",
    "#             x.text.angle = 0,\n",
    "#             ylab = expression(atop(\"Gene product\", \n",
    "#                                    \"(molecules\" %*% \"10\"^\"5\"*\")\")),\n",
    "#             xlab = \"Time (hrs)\",\n",
    "#             # legend = \"bottom\",\n",
    "#             legend.title = \"\",\n",
    "#             y.text.angle = 0,\n",
    "#             rotate = F,\n",
    "#             font.x = 14, \n",
    "#             font.y = 14,\n",
    "#             font.tickslab = 13,\n",
    "#             size = 0.9,\n",
    "#             point.size = 0.1,\n",
    "#             # font.label = 14,\n",
    "#             theme = theme_pubr()\n",
    "# )\n",
    "\n",
    "#Add all the time trajectors to the plot\n",
    "id.sample <- 1:nboot\n",
    "for( b in id.sample ){\n",
    "  id <- which(out.control[[b]]$time >= skip_hours * 60 * 60)\n",
    "  dat.plot <- data.frame(x = out.control[[b]]$time[id]/(60 * 60) - \n",
    "                           min(out.control[[1]]$time[id]/(60 * 60)), \n",
    "                         y = out.control[[b]]$Protein[id]/10^5)\n",
    "  p <- p + geom_line(data = dat.plot, mapping = aes(x = x, y = y), color = col, \n",
    "                     linetype = 1, size = 0.9)\n",
    "}\n",
    "\n",
    "# Add horizontal line for the mean value\n",
    "p <- p + geom_hline(yintercept = mean(steady_state)/10^5, color = \"gray\", linetype = 2, \n",
    "                    size = 1.3)\n",
    "\n",
    "# Write 'Mean' above the mean horizontal line\n",
    "p <- p + \n",
    "geom_text(data = data.frame(x = 10, y = 1, label = \"Mean\"), \n",
    "            mapping = aes(x = x, y = y, label = label), color = \"white\", size = 5)\n",
    "\n",
    "# Remove white space between the plot and the axes\n",
    "p <- p + ylim(c(0, 4.5)) + \n",
    "  scale_x_continuous(limits = c(0,20), expand = c(0, 0)) +\n",
    "  scale_y_continuous(limits = c(0,4.5), expand = c(0, 0))\n",
    "\n",
    "# Add axes labels\n",
    "p <- p + xlab(\"Time (hrs)\") + ylab(expression(atop(\"Gene product\", \n",
    "                                   \"(molecules\" %*% \"10\"^\"5\"*\")\")))\n",
    "\n",
    "# Adjust font sizes for the title and the axes\n",
    "p <- p + \n",
    "  theme(plot.title = element_text(size = 16, color = \"black\", face=\"bold.italic\"), \n",
    "        axis.title.x = element_text(size = 14, colour = \"black\", face = \"bold\"), \n",
    "        axis.title.y = element_text(size = 14, colour = \"black\", face = \"bold\"), \n",
    "        axis.text.x = element_text(size = 13, colour = \"black\"), \n",
    "        axis.text.y = element_text(size = 13, colour = \"black\"), \n",
    "        panel.background = element_blank(), \n",
    "        axis.line.y = element_line(color = \"black\"), axis.line.x = element_line(color = \"black\"),\n",
    "        panel.grid.major = element_blank(), panel.grid.minor = element_blank())\n",
    "p.control.time <- p +  ggtitle(\"Untreated\")"
   ]
  },
  {
   "cell_type": "markdown",
   "metadata": {},
   "source": [
    "### Histogram for protein count at the end of simulation"
   ]
  },
  {
   "cell_type": "code",
   "execution_count": 16,
   "metadata": {},
   "outputs": [
    {
     "name": "stderr",
     "output_type": "stream",
     "text": [
      "Scale for 'x' is already present. Adding another scale for 'x', which will\n",
      "replace the existing scale.\n",
      "\n"
     ]
    }
   ],
   "source": [
    "# y-axis limit\n",
    "ymax <- 80\n",
    "ymid <- 40\n",
    "\n",
    "# Draw a gray region which defines region of active HIV replication\n",
    "dat.polygon <- data.frame(y = c(0, ymax, ymax, 0), \n",
    "                          x = c(3, 3, 4.5, 4.5))\n",
    "p <- ggplot() + geom_polygon(aes(x = x, y = y), data = dat.polygon, fill = \"gray\", \n",
    "                      col = \"white\", alpha = 0.5)\n",
    "\n",
    "# Save single-cell protein count data at the end of simulation in a data frame\n",
    "dat.plot <- data.frame(x = steady_state/10^5)\n",
    "\n",
    "# Plot histogram\n",
    "p <- p + \n",
    "  geom_histogram(data = dat.plot, mapping = aes(x = x),\n",
    "                 color=\"black\", fill=\"black\", bins = 100) + coord_flip()\n",
    "\n",
    "# Remove white space between the plot and the axes\n",
    "p <- p + xlim(c(0, 4.5)) + \n",
    "  scale_x_continuous(limits = c(0,4.5), expand = c(0, 0)) + \n",
    "  scale_y_continuous(limits = c(0,ymax), expand = c(0, 0))\n",
    "\n",
    "# Remove background and axes text\n",
    "p <- p + \n",
    "  theme(axis.title.x = element_blank(), \n",
    "        axis.title.y = element_blank(),\n",
    "        axis.text.x = element_blank(),\n",
    "        axis.text.y = element_blank(), \n",
    "        axis.ticks.x = element_blank(), \n",
    "        axis.ticks.y = element_blank(), \n",
    "        panel.background = element_blank(), axis.line.y = element_line(), \n",
    "        panel.grid.major = element_blank(), panel.grid.minor = element_blank())\n",
    "\n",
    "# Add horizontal line for the mean value\n",
    "p <- p + geom_vline(xintercept = mean(steady_state)/10^5, color = \"gray\", linetype = 2, \n",
    "                    size = 1.3)\n",
    "\n",
    "# Visually explain the concept of noise\n",
    "p <- p + geom_segment(aes(x = 0, y = ymid, \n",
    "                          xend = 0.3, yend = ymid),\n",
    "                      arrow = arrow(length = unit(0.3, \"cm\")), size = 0.7)\n",
    "p <- p + geom_segment(aes(x = 1.3, y = ymax/2, \n",
    "                          xend = 1, yend = ymid),\n",
    "                      arrow = arrow(length = unit(0.3, \"cm\")), size = 0.7) + \n",
    "  geom_text(data = data.frame(x = 1.5, y = ymid, label = \"Noise\"), \n",
    "            mapping = aes(x = x, y = y, label = label), color = \"black\", size = 5)\n",
    "p.control.hist <- p"
   ]
  },
  {
   "cell_type": "markdown",
   "metadata": {},
   "source": [
    "### Representative plot of promoter activity"
   ]
  },
  {
   "cell_type": "code",
   "execution_count": 18,
   "metadata": {},
   "outputs": [
    {
     "data": {
      "text/plain": [
       "<ScaleContinuousPosition>\n",
       " Range:  \n",
       " Limits:    0 --   20"
      ]
     },
     "metadata": {},
     "output_type": "display_data"
    },
    {
     "data": {
      "image/png": "[encoded data removed]",
      "text/plain": [
       "plot without title"
      ]
     },
     "metadata": {
      "image/png": {
       "height": 420,
       "width": 420
      }
     },
     "output_type": "display_data"
    }
   ],
   "source": [
    "on_frac = (params['kon'])/(params['kon'] + params['koff'])\n",
    "col <- \"gray20\" # color for the single-cell time trajectories\n",
    "\n",
    "# Plot the first trajectory\n",
    "id <- which(out.control[[1]]$time >= skip_hours * 60 * 60)\n",
    "dat.plot <- data.frame(x = c(0, 1, 1, 2, 2, 3, 4, 5, 6, 6, 7, 7, 8, 9, 10, 11, 11, 12, 12, \n",
    "                            13, 14, 15, 16, 16, 17, 17, 18, 19, 20), \n",
    "                        y = c(0, 0, 1, 1, 0, 0, 0, 0, 0, 1, 1, 0, 0, 0, 0, 0, 1, 1, 0, \n",
    "                             0, 0, 0, 0, 1, 1, 0, 0, 0, 0))\n",
    "p <- ggline(dat.plot, x = \"x\", y = \"y\", \n",
    "            numeric.x.axis = T, \n",
    "            linetype = \"solid\",\n",
    "            plot_type = c(\"l\"),\n",
    "            fill = col,           \n",
    "            color = col,\n",
    "            sort.by.groups = FALSE,\n",
    "            x.text.angle = 0,\n",
    "            ylab = expression(atop(\"Promoter\", \n",
    "                                   \"(activity)\")),\n",
    "            xlab = \"Time\",\n",
    "            # legend = \"bottom\",\n",
    "            legend.title = \"\",\n",
    "            y.text.angle = 0,\n",
    "            rotate = F,\n",
    "            font.x = 14, \n",
    "            font.y = 14,\n",
    "            font.tickslab = 13,\n",
    "            size = 0.9,\n",
    "            point.size = 0.1,\n",
    "            # font.label = 14,\n",
    "            theme = theme_pubr()\n",
    ")\n",
    "# Add horizontal line for the mean value\n",
    "p <- p + geom_hline(yintercept = 1, color = \"gray\", linetype = 2, \n",
    "                    size = 1.3)\n",
    "\n",
    "p <- p  + \n",
    "  geom_text(data = data.frame(x = 18, y = 0.9, label = \"ON\"), \n",
    "            mapping = aes(x = x, y = y, label = label), color = \"black\", size = 5) + \n",
    "geom_text(data = data.frame(x = 19, y = 0.2, label = \"OFF\"), \n",
    "            mapping = aes(x = x, y = y, label = label), color = \"black\", size = 5)\n",
    "\n",
    "# Remove white space between the plot and the axes\n",
    "p <- p + xlim(c(0, 20.5))\n",
    "  scale_x_continuous(limits = c(0,20), expand = c(0, 0))\n",
    "\n",
    "# Adjust font sizes for the title and the axes\n",
    "p <- p + \n",
    "  theme(plot.title = element_text(size = 15, color = \"black\", face=\"bold.italic\"), \n",
    "        axis.title.x = element_text(size = 13, colour = \"black\", face = \"bold\"), \n",
    "        axis.title.y = element_text(size = 13, colour = \"black\", face = \"bold\"), \n",
    "        axis.text.x = element_blank(),\n",
    "        axis.text.y = element_blank(), \n",
    "        axis.ticks.x = element_blank(), \n",
    "        axis.ticks.y = element_blank())\n",
    "p.control.promoter <- p\n",
    "print(p)"
   ]
  },
  {
   "cell_type": "markdown",
   "metadata": {},
   "source": [
    "### Combine plots"
   ]
  },
  {
   "cell_type": "code",
   "execution_count": null,
   "metadata": {},
   "outputs": [],
   "source": [
    "first.row <- plot_grid(p.control.time, p.control.hist, ncol = 2, \n",
    "                    labels = \"\", align = \"h\", rel_widths = c(1.5, 1))\n",
    "second.row <- plot_grid(p.control.promoter, NULL, ncol = 2, labels = \"\", align = \"h\", \n",
    "                       rel_widths = c(1.5, 1))\n",
    "plot.control <- plot_grid(first.row, second.row, nrow = 2, rel_heights = c(2.5, 1))\n",
    "save_plot(\"Plot_control.pdf\", plot.control, base_height = 4, base_width = 6)\n",
    "print(plot.control)"
   ]
  },
  {
   "cell_type": "markdown",
   "metadata": {},
   "source": [
    "## Simulations for noise enhancer"
   ]
  },
  {
   "cell_type": "markdown",
   "metadata": {},
   "source": [
    "### Setup simulation parameters and initial state"
   ]
  },
  {
   "cell_type": "code",
   "execution_count": 29,
   "metadata": {},
   "outputs": [],
   "source": [
    "# reaction rates\n",
    "rxn_rates = c(0.000104167, 0.001041667, 0.208333333, 0.000115525, 0.032346868, 7.70164E-05) \n",
    "\n",
    "params <- c(kon = rxn_rates[1], koff = rxn_rates[2], km = rxn_rates[3], \n",
    "                   gamma_m = rxn_rates[4], kp = rxn_rates[5], gamma_p = rxn_rates[6])\n",
    "\n",
    "# initial state vector\n",
    "# initial_state <- c(Gon = 1, Goff = 0,  \n",
    "#             M = floor((rxn_rates[1] * rxn_rates[3])/\n",
    "#                       ((rxn_rates[1] + rxn_rates[2]) * rxn_rates[4])), \n",
    "#             P = floor((rxn_rates[5])/rxn_rates[6])*\n",
    "#               floor((rxn_rates[1] * rxn_rates[3])/\n",
    "#                       ((rxn_rates[1] + rxn_rates[2]) * rxn_rates[4])))\n",
    "\n",
    "# reactions in the system\n",
    "reactions <- list(reaction(~kon * Goff, c(Goff = -1, Gon = +1), \"promoter_on\"),  \n",
    "                  reaction(~koff * Gon, c(Goff = +1, Gon = -1), \"promoter_off\"), \n",
    "                  reaction(~km * Gon, c(M = +1), \"transcription\"), \n",
    "                  reaction(~gamma_m * M, c(M = -1), \"mRNA_degradation\"), \n",
    "                  reaction(~kp * M, c(P = +1), \"translation\"), \n",
    "                  reaction(~gamma_p * P, c(P = -1), \"protein_degradation\"))\n",
    "\n",
    "# num. of hours of simulation to use as burn-in\n",
    "skip_hours <- 0"
   ]
  },
  {
   "cell_type": "markdown",
   "metadata": {},
   "source": [
    "### Run simulation using Gillespie's Direct Method (DM)"
   ]
  },
  {
   "cell_type": "code",
   "execution_count": 30,
   "metadata": {},
   "outputs": [
    {
     "name": "stdout",
     "output_type": "stream",
     "text": [
      "  |======================================================================| 100%"
     ]
    }
   ],
   "source": [
    "out.NE <- foreach( b = 1:nboot, .options.snow = opts )%dopar%{\n",
    "  set.seed(b)\n",
    "  library(doParallel)\n",
    "  library(GillespieSSA2)\n",
    "  initial_state <- c(Gon = 1, Goff = 0,  \n",
    "            M = floor((rxn_rates[1] * rxn_rates[3])/\n",
    "                      ((rxn_rates[1] + rxn_rates[2]) * rxn_rates[4])), \n",
    "            P = out.control[[b]]$Protein[length(out.control[[b]]$Protein)])  \n",
    "    \n",
    "  out <-\n",
    "    ssa(\n",
    "      initial_state = initial_state,\n",
    "      reactions = reactions,\n",
    "      params = params,\n",
    "      method = ssa_exact(),\n",
    "      final_time = (20 + skip_hours) * 60 * 60,\n",
    "      census_interval = 10,\n",
    "      verbose = TRUE\n",
    "    )\n",
    "  return(list(time = out$time, Protein = out$state[, 4]))\n",
    "}"
   ]
  },
  {
   "cell_type": "markdown",
   "metadata": {},
   "source": [
    "### Extract single-cell protein counts at the end of the simulation. Take all single-cell data from all time points; assume that the process is ergodic."
   ]
  },
  {
   "cell_type": "code",
   "execution_count": 31,
   "metadata": {},
   "outputs": [],
   "source": [
    "steady_state <- rep(0, nboot)\n",
    "for( i in 1:nboot ){\n",
    "  steady_state[i] <- out.NE[[i]]$Protein[length(out.NE[[i]]$Protein)]\n",
    "}"
   ]
  },
  {
   "cell_type": "markdown",
   "metadata": {},
   "source": [
    "### Plot for single-cell trajectories protein count"
   ]
  },
  {
   "cell_type": "code",
   "execution_count": 32,
   "metadata": {},
   "outputs": [
    {
     "name": "stderr",
     "output_type": "stream",
     "text": [
      "Scale for 'y' is already present. Adding another scale for 'y', which will\n",
      "replace the existing scale.\n",
      "\n"
     ]
    }
   ],
   "source": [
    "col <- \"purple\" # color for the single-cell time trajectories\n",
    "\n",
    "# Plot gray region showing threshold region for active HIV replication\n",
    "dat.polygon <- data.frame(x = c(0, 20, 20, 0), \n",
    "                          y = c(3, 3, 4.5, 4.5))\n",
    "p <- ggplot()\n",
    "p <- p + geom_polygon(aes(x = x, y = y), data = dat.polygon, fill = \"gray\", \n",
    "                      col = \"white\", alpha = 0.5) \n",
    "# + \n",
    "#   geom_text(data = data.frame(x = 10, y = 4, label = \"Active \\n replication\"), \n",
    "#             mapping = aes(x = x, y = y, label = label), color = \"white\", size = 5)\n",
    "\n",
    "# Plot the first trajectory\n",
    "# id <- which(out.NE[[1]]$time >= skip_hours * 60 * 60)\n",
    "# dat.plot <- data.frame(x = out.NE[[1]]$time[id]/(60 * 60) - \n",
    "#                          min(out.NE[[1]]$time[id]/(60 * 60)), \n",
    "#                         y = out.NE[[1]]$Protein[id]/10^5)\n",
    "# p <- ggline(dat.plot, x = \"x\", y = \"y\", \n",
    "#             numeric.x.axis = T, \n",
    "#             linetype = \"solid\",\n",
    "#             plot_type = c(\"l\"),\n",
    "#             fill = col,           \n",
    "#             color = col,\n",
    "#             sort.by.groups = FALSE,\n",
    "#             x.text.angle = 0,\n",
    "#             ylab = expression(atop(\"Gene product\", \n",
    "#                                    \"(molecules\" %*% \"10\"^\"5\"*\")\")),\n",
    "#             xlab = \"Time (hrs)\",\n",
    "#             # legend = \"bottom\",\n",
    "#             legend.title = \"\",\n",
    "#             y.text.angle = 0,\n",
    "#             rotate = F,\n",
    "#             font.x = 14, \n",
    "#             font.y = 14,\n",
    "#             font.tickslab = 13,\n",
    "#             size = 0.9,\n",
    "#             point.size = 0.1,\n",
    "#             # font.label = 14,\n",
    "#             theme = theme_pubr()\n",
    "# )\n",
    "\n",
    "#Add all the time trajectors to the plot\n",
    "id.sample <- 1:nboot\n",
    "for( b in id.sample ){\n",
    "  id <- which(out.NE[[b]]$time >= skip_hours * 60 * 60)\n",
    "  dat.plot <- data.frame(x = out.NE[[b]]$time[id]/(60 * 60) - \n",
    "                           min(out.NE[[1]]$time[id]/(60 * 60)), \n",
    "                         y = out.NE[[b]]$Protein[id]/10^5)\n",
    "  p <- p + geom_line(data = dat.plot, mapping = aes(x = x, y = y), color = col, \n",
    "                     linetype = 1, size = 0.9)\n",
    "}\n",
    "\n",
    "# Add horizontal line for the mean value\n",
    "p <- p + geom_hline(yintercept = mean_val/10^5, color = \"gray\", linetype = 2, \n",
    "                    size = 1.3)\n",
    "\n",
    "# Write 'Mean' above the mean horizontal line\n",
    "p <- p + \n",
    "geom_text(data = data.frame(x = 10, y = 1, label = \"Mean\"), \n",
    "            mapping = aes(x = x, y = y, label = label), color = \"white\", size = 5)\n",
    "\n",
    "# Remove white space between the plot and the axes\n",
    "p <- p + ylim(c(0, 4.5)) + \n",
    "  scale_x_continuous(limits = c(0,20), expand = c(0, 0)) +\n",
    "  scale_y_continuous(limits = c(0,4.5), expand = c(0, 0))\n",
    "\n",
    "# Add axes labels\n",
    "p <- p + xlab(\"Time (hrs)\") + ylab(expression(atop(\"Gene product\", \n",
    "                                   \"(molecules\" %*% \"10\"^\"5\"*\")\")))\n",
    "\n",
    "# Adjust font sizes for the title and the axes\n",
    "p <- p + \n",
    "  theme(plot.title = element_text(size = 16, color = \"black\", face=\"bold.italic\"), \n",
    "        axis.title.x = element_text(size = 14, colour = \"black\", face = \"bold\"), \n",
    "        axis.title.y = element_text(size = 14, colour = \"black\", face = \"bold\"), \n",
    "        axis.text.x = element_text(size = 13, colour = \"black\"), \n",
    "        axis.text.y = element_text(size = 13, colour = \"black\"), \n",
    "        panel.background = element_blank(),\n",
    "        axis.line.y = element_line(color = \"black\"), axis.line.x = element_line(color = \"black\"),\n",
    "        panel.grid.major = element_blank(), panel.grid.minor = element_blank())\n",
    "p.NE.time <- p +  ggtitle(\"Noise enhancer\")"
   ]
  },
  {
   "cell_type": "markdown",
   "metadata": {},
   "source": [
    "### Histogram for protein count at the end of simulation"
   ]
  },
  {
   "cell_type": "code",
   "execution_count": 36,
   "metadata": {},
   "outputs": [
    {
     "name": "stderr",
     "output_type": "stream",
     "text": [
      "Scale for 'x' is already present. Adding another scale for 'x', which will\n",
      "replace the existing scale.\n",
      "\n"
     ]
    }
   ],
   "source": [
    "# y-axis limit\n",
    "ymax <- 100\n",
    "ymid <- 40\n",
    "\n",
    "# Draw a gray region which defines region of active HIV replication\n",
    "dat.polygon <- data.frame(y = c(0, ymax, ymax, 0), \n",
    "                          x = c(3, 3, 4.5, 4.5))\n",
    "p <- ggplot() + geom_polygon(aes(x = x, y = y), data = dat.polygon, fill = \"gray\", \n",
    "                      col = \"white\", alpha = 0.5)\n",
    "\n",
    "# Save single-cell protein count data at the end of simulation in a data frame\n",
    "dat.plot <- data.frame(x = steady_state/10^5)\n",
    "\n",
    "# Plot histogram\n",
    "p <- p + \n",
    "  geom_histogram(data = dat.plot, mapping = aes(x=x), color=col, fill=col, bins = 50) + coord_flip()\n",
    "\n",
    "# Remove white space between the plot and the axes\n",
    "p <- p + xlim(c(0, 4.5)) + \n",
    "  scale_x_continuous(limits = c(0,4.5), expand = c(0, 0)) + \n",
    "  scale_y_continuous(limits = c(0,ymax), expand = c(0, 0))\n",
    "\n",
    "# Remove background and axes text\n",
    "p <- p + \n",
    "  theme(axis.title.x = element_blank(), \n",
    "        axis.title.y = element_blank(),\n",
    "        axis.text.x = element_blank(),\n",
    "        axis.text.y = element_blank(), \n",
    "        axis.ticks.x = element_blank(), \n",
    "        axis.ticks.y = element_blank(), \n",
    "        panel.background = element_blank(), axis.line.y = element_line(), \n",
    "        panel.grid.major = element_blank(), panel.grid.minor = element_blank())\n",
    "\n",
    "# Add horizontal line for the mean value\n",
    "p <- p + geom_vline(xintercept = mean_val/10^5, color = \"gray\", linetype = 2, \n",
    "                    size = 1.3)\n",
    "\n",
    "\n",
    "\n",
    "# Visually explain the concept of noise\n",
    "# p <- p + geom_segment(aes(x = 0, y = ymid, \n",
    "#                           xend = 0.3, yend = ymid),\n",
    "#                       arrow = arrow(length = unit(0.3, \"cm\")), size = 0.7)\n",
    "# p <- p + geom_segment(aes(x = 1.3, y = ymid, \n",
    "#                           xend = 1, yend = ymid),\n",
    "#                       arrow = arrow(length = unit(0.3, \"cm\")), size = 0.7) + \n",
    "#   geom_text(data = data.frame(x = 1.5, y = ymid, label = \"Noise\"), \n",
    "#             mapping = aes(x = x, y = y, label = label), color = \"black\", size = 5)\n",
    "p.NE.hist <- p"
   ]
  },
  {
   "cell_type": "markdown",
   "metadata": {},
   "source": [
    "### Representative plot of promoter activity"
   ]
  },
  {
   "cell_type": "code",
   "execution_count": 76,
   "metadata": {},
   "outputs": [
    {
     "data": {
      "text/plain": [
       "<ScaleContinuousPosition>\n",
       " Range:  \n",
       " Limits:    0 --   20"
      ]
     },
     "metadata": {},
     "output_type": "display_data"
    },
    {
     "data": {
      "image/png": "[encoded data removed]",
      "text/plain": [
       "plot without title"
      ]
     },
     "metadata": {
      "image/png": {
       "height": 420,
       "width": 420
      }
     },
     "output_type": "display_data"
    }
   ],
   "source": [
    "on_frac = (params['kon'])/(params['kon'] + params['koff'])\n",
    "col <- \"purple\" # color for the single-cell time trajectories\n",
    "\n",
    "# Plot the first trajectory\n",
    "id <- which(out.NE[[1]]$time >= skip_hours * 60 * 60)\n",
    "dat.plot <- data.frame(x = c(0, 1, 1, 2, 3, 4, 4, 5, 6, 7, 8, 8, 9, 10, 11, 11, \n",
    "                            12, 13, 14, 15, 15, 16, 17, 18, 18, 19, 20), \n",
    "                        y = c(0, 0, 1, 1, 1, 1, 0, 0, 0, 0, 0, 1, 1, 1, 1, 0, \n",
    "                             0, 0, 0, 0, 1, 1, 1, 1, 0, 0, 0))\n",
    "p <- ggline(dat.plot, x = \"x\", y = \"y\", \n",
    "            numeric.x.axis = T, \n",
    "            linetype = \"solid\",\n",
    "            plot_type = c(\"l\"),\n",
    "            fill = col,           \n",
    "            color = col,\n",
    "            sort.by.groups = FALSE,\n",
    "            x.text.angle = 0,\n",
    "            ylab = expression(atop(\"Promoter\", \n",
    "                                   \"(activity)\")),\n",
    "            xlab = \"Time\",\n",
    "            # legend = \"bottom\",\n",
    "            legend.title = \"\",\n",
    "            y.text.angle = 0,\n",
    "            rotate = F,\n",
    "            font.x = 14, \n",
    "            font.y = 14,\n",
    "            font.tickslab = 13,\n",
    "            size = 0.9,\n",
    "            point.size = 0.1,\n",
    "            # font.label = 14,\n",
    "            theme = theme_pubr()\n",
    ")\n",
    "# Add horizontal line for the mean value\n",
    "p <- p + geom_hline(yintercept = 1, color = \"gray\", linetype = 2, \n",
    "                    size = 1.3)\n",
    "\n",
    "# p <- p  + \n",
    "#   geom_text(data = data.frame(x = 19, y = 0.9, label = \"ON\"), \n",
    "#             mapping = aes(x = x, y = y, label = label), color = \"black\", size = 5) + \n",
    "# geom_text(data = data.frame(x = 19, y = 0.2, label = \"OFF\"), \n",
    "#             mapping = aes(x = x, y = y, label = label), color = \"black\", size = 5)\n",
    "\n",
    "# Remove white space between the plot and the axes\n",
    "p <- p + xlim(c(0, 20.5))\n",
    "  scale_x_continuous(limits = c(0,20), expand = c(0, 0))\n",
    "\n",
    "# Adjust font sizes for the title and the axes\n",
    "p <- p + \n",
    "  theme(plot.title = element_text(size = 15, color = \"black\", face=\"bold.italic\"), \n",
    "        axis.title.x = element_text(size = 13, colour = \"black\", face = \"bold\"), \n",
    "        axis.title.y = element_text(size = 13, colour = \"black\", face = \"bold\"), \n",
    "        axis.text.x = element_blank(),\n",
    "        axis.text.y = element_blank(), \n",
    "        axis.ticks.x = element_blank(), \n",
    "        axis.ticks.y = element_blank())\n",
    "p.NE.promoter <- p\n",
    "print(p)"
   ]
  },
  {
   "cell_type": "markdown",
   "metadata": {},
   "source": [
    "### Combine Plots"
   ]
  },
  {
   "cell_type": "code",
   "execution_count": null,
   "metadata": {},
   "outputs": [],
   "source": [
    "first.row <- plot_grid(p.NE.time, p.NE.hist, ncol = 2, \n",
    "                    labels = \"\", align = \"h\", rel_widths = c(1.5, 1))\n",
    "second.row <- plot_grid(p.NE.promoter, NULL, ncol = 2, labels = \"\", align = \"h\", \n",
    "                       rel_widths = c(1.5, 1))\n",
    "plot.NE <- plot_grid(first.row, second.row, nrow = 2, rel_heights = c(2.5, 1))\n",
    "save_plot(\"Plot_NE.png\", plot.NE, base_height = 4, base_width = 6)\n",
    "print(plot.NE)"
   ]
  },
  {
   "cell_type": "markdown",
   "metadata": {},
   "source": [
    "## Simulations for activator"
   ]
  },
  {
   "cell_type": "markdown",
   "metadata": {},
   "source": [
    "### Setup simulation parameters and initial state"
   ]
  },
  {
   "cell_type": "code",
   "execution_count": 41,
   "metadata": {},
   "outputs": [],
   "source": [
    "# reaction rates\n",
    "rxn_rates = c(0.000625, 0.002083, 0.208333333, 0.000115525, 0.032346868, 7.70164E-05) \n",
    "\n",
    "params <- c(kon = rxn_rates[1], koff = rxn_rates[2], km = rxn_rates[3], \n",
    "                   gamma_m = rxn_rates[4], kp = rxn_rates[5], gamma_p = rxn_rates[6])\n",
    "\n",
    "# initial state vector\n",
    "# initial_state <- c(Gon = 1, Goff = 0,  \n",
    "#             M = floor((rxn_rates[1] * rxn_rates[3])/\n",
    "#                       ((rxn_rates[1] + rxn_rates[2]) * rxn_rates[4])), \n",
    "#             P = floor((rxn_rates[5])/rxn_rates[6])*\n",
    "#               floor((rxn_rates[1] * rxn_rates[3])/\n",
    "#                       ((rxn_rates[1] + rxn_rates[2]) * rxn_rates[4])))\n",
    "\n",
    "# reactions in the system\n",
    "reactions <- list(reaction(~kon * Goff, c(Goff = -1, Gon = +1), \"promoter_on\"),  \n",
    "                  reaction(~koff * Gon, c(Goff = +1, Gon = -1), \"promoter_off\"), \n",
    "                  reaction(~km * Gon, c(M = +1), \"transcription\"), \n",
    "                  reaction(~gamma_m * M, c(M = -1), \"mRNA_degradation\"), \n",
    "                  reaction(~kp * M, c(P = +1), \"translation\"), \n",
    "                  reaction(~gamma_p * P, c(P = -1), \"protein_degradation\"))\n",
    "\n",
    "# num. of hours of simulation to use as burn-in\n",
    "skip_hours <- 0"
   ]
  },
  {
   "cell_type": "markdown",
   "metadata": {},
   "source": [
    "### Run simulation using Gillespie's Direct Method (DM)"
   ]
  },
  {
   "cell_type": "code",
   "execution_count": 42,
   "metadata": {},
   "outputs": [
    {
     "name": "stdout",
     "output_type": "stream",
     "text": [
      "  |======================================================================| 100%"
     ]
    }
   ],
   "source": [
    "out.Ac <- foreach( b = 1:nboot, .options.snow = opts )%dopar%{\n",
    "  set.seed(b)\n",
    "  library(doParallel)\n",
    "  library(GillespieSSA2)\n",
    "  initial_state <- c(Gon = 1, Goff = 0,  \n",
    "            M = floor((rxn_rates[1] * rxn_rates[3])/\n",
    "                      ((rxn_rates[1] + rxn_rates[2]) * rxn_rates[4])), \n",
    "            P = out.control[[b]]$Protein[length(out.control[[b]]$Protein)])    \n",
    "  out <-\n",
    "    ssa(\n",
    "      initial_state = initial_state,\n",
    "      reactions = reactions,\n",
    "      params = params,\n",
    "      method = ssa_exact(),\n",
    "      final_time = (20 + skip_hours) * 60 * 60,\n",
    "      census_interval = 10,\n",
    "      verbose = TRUE\n",
    "    )\n",
    "  return(list(time = out$time, Protein = out$state[, 4]))\n",
    "}"
   ]
  },
  {
   "cell_type": "markdown",
   "metadata": {},
   "source": [
    "### Extract single-cell protein counts at the end of the simulation. Take all single-cell data from all time points; assume that the process is ergodic."
   ]
  },
  {
   "cell_type": "code",
   "execution_count": 43,
   "metadata": {},
   "outputs": [],
   "source": [
    "steady_state <- rep(0, nboot)\n",
    "for( i in 1:nboot ){\n",
    "  steady_state[i] <- out.Ac[[i]]$Protein[length(out.Ac[[i]]$Protein)]\n",
    "}"
   ]
  },
  {
   "cell_type": "markdown",
   "metadata": {},
   "source": [
    "### Plot for single-cell trajectories protein count"
   ]
  },
  {
   "cell_type": "code",
   "execution_count": 46,
   "metadata": {},
   "outputs": [
    {
     "name": "stderr",
     "output_type": "stream",
     "text": [
      "Scale for 'y' is already present. Adding another scale for 'y', which will\n",
      "replace the existing scale.\n",
      "\n"
     ]
    }
   ],
   "source": [
    "col <- \"blue\" # color for the single-cell time trajectories\n",
    "\n",
    "# Plot gray region showing threshold region for active HIV replication\n",
    "dat.polygon <- data.frame(x = c(0, 20, 20, 0), \n",
    "                          y = c(3, 3, 4.5, 4.5))\n",
    "p <- ggplot()\n",
    "p <- p + geom_polygon(aes(x = x, y = y), data = dat.polygon, fill = \"gray\", \n",
    "                      col = \"white\", alpha = 0.5) \n",
    "# + \n",
    "#   geom_text(data = data.frame(x = 10, y = 4, label = \"Active \\n replication\"), \n",
    "#             mapping = aes(x = x, y = y, label = label), color = \"white\", size = 5)\n",
    "\n",
    "# Plot the first trajectory\n",
    "# id <- which(out.Ac[[1]]$time >= skip_hours * 60 * 60)\n",
    "# dat.plot <- data.frame(x = out.Ac[[1]]$time[id]/(60 * 60) - \n",
    "#                          min(out.Ac[[1]]$time[id]/(60 * 60)), \n",
    "#                         y = out.Ac[[1]]$Protein[id]/10^5)\n",
    "# p <- ggline(dat.plot, x = \"x\", y = \"y\", \n",
    "#             numeric.x.axis = T, \n",
    "#             linetype = \"solid\",\n",
    "#             plot_type = c(\"l\"),\n",
    "#             fill = col,           \n",
    "#             color = col,\n",
    "#             sort.by.groups = FALSE,\n",
    "#             x.text.angle = 0,\n",
    "#             ylab = expression(atop(\"Gene product\", \n",
    "#                                    \"(molecules\" %*% \"10\"^\"5\"*\")\")),\n",
    "#             xlab = \"Time (hrs)\",\n",
    "#             # legend = \"bottom\",\n",
    "#             legend.title = \"\",\n",
    "#             y.text.angle = 0,\n",
    "#             rotate = F,\n",
    "#             font.x = 14, \n",
    "#             font.y = 14,\n",
    "#             font.tickslab = 13,\n",
    "#             size = 0.9,\n",
    "#             point.size = 0.1,\n",
    "#             # font.label = 14,\n",
    "#             theme = theme_pubr()\n",
    "# )\n",
    "\n",
    "#Add all the time trajectors to the plot\n",
    "id.sample <- 1:nboot\n",
    "for( b in id.sample ){\n",
    "  id <- which(out.Ac[[b]]$time >= skip_hours * 60 * 60)\n",
    "  dat.plot <- data.frame(x = out.Ac[[b]]$time[id]/(60 * 60) - \n",
    "                           min(out.Ac[[1]]$time[id]/(60 * 60)), \n",
    "                         y = out.Ac[[b]]$Protein[id]/10^5)\n",
    "  p <- p + geom_line(data = dat.plot, mapping = aes(x = x, y = y), color = col, \n",
    "                     linetype = 1, size = 0.9)\n",
    "}\n",
    "\n",
    "# Add horizontal line for the mean value\n",
    "p <- p + geom_hline(yintercept = mean_val/10^5, color = \"gray\", linetype = 2, \n",
    "                    size = 1.3)\n",
    "\n",
    "# Write 'Mean' above the mean horizontal line\n",
    "# p <- p + \n",
    "# geom_text(data = data.frame(x = 10, y = 1, label = \"Mean\"), \n",
    "#             mapping = aes(x = x, y = y, label = label), color = \"white\", size = 5)\n",
    "\n",
    "# Remove white space between the plot and the axes\n",
    "p <- p + ylim(c(0, 4.5)) + \n",
    "  scale_x_continuous(limits = c(0,20), expand = c(0, 0)) +\n",
    "  scale_y_continuous(limits = c(0,4.5), expand = c(0, 0))\n",
    "\n",
    "# Add axes labels\n",
    "p <- p + xlab(\"Time (hrs)\") + ylab(expression(atop(\"Gene product\", \n",
    "                                   \"(molecules\" %*% \"10\"^\"5\"*\")\")))\n",
    "\n",
    "# Adjust font sizes for the title and the axes\n",
    "p <- p + \n",
    "  theme(plot.title = element_text(size = 16, color = \"black\", face=\"bold.italic\"), \n",
    "        axis.title.x = element_text(size = 14, colour = \"black\", face = \"bold\"), \n",
    "        axis.title.y = element_text(size = 14, colour = \"black\", face = \"bold\"), \n",
    "        axis.text.x = element_text(size = 13, colour = \"black\"), \n",
    "        axis.text.y = element_text(size = 13, colour = \"black\"), \n",
    "        panel.background = element_blank(),\n",
    "        axis.line.y = element_line(color = \"black\"), axis.line.x = element_line(color = \"black\"),\n",
    "        panel.grid.major = element_blank(), panel.grid.minor = element_blank())\n",
    "p.Ac.time <- p +  ggtitle(\"Activator\")"
   ]
  },
  {
   "cell_type": "markdown",
   "metadata": {},
   "source": [
    "### Histogram for protein count at the end of simulation"
   ]
  },
  {
   "cell_type": "code",
   "execution_count": 69,
   "metadata": {},
   "outputs": [
    {
     "name": "stderr",
     "output_type": "stream",
     "text": [
      "Scale for 'x' is already present. Adding another scale for 'x', which will\n",
      "replace the existing scale.\n",
      "\n"
     ]
    }
   ],
   "source": [
    "# y-axis limit\n",
    "ymax <- 90\n",
    "ymid <- 40\n",
    "\n",
    "# Draw a gray region which defines region of active HIV replication\n",
    "dat.polygon <- data.frame(y = c(0, ymax, ymax, 0), \n",
    "                          x = c(3, 3, 4.5, 4.5))\n",
    "p <- ggplot() + geom_polygon(aes(x = x, y = y), data = dat.polygon, fill = \"gray\", \n",
    "                      col = \"white\", alpha = 0.5)\n",
    "\n",
    "# Save single-cell protein count data at the end of simulation in a data frame\n",
    "dat.plot <- data.frame(x = steady_state/10^5)\n",
    "\n",
    "# Plot histogram\n",
    "p <- p + \n",
    "  geom_histogram(data = dat.plot, mapping = aes(x = x), \n",
    "                 color=col, fill=col, bins = 50) + coord_flip()\n",
    "\n",
    "# Remove white space between the plot and the axes\n",
    "p <- p + xlim(c(0, 4.5)) + \n",
    "  scale_x_continuous(limits = c(0,4.5), expand = c(0, 0)) + \n",
    "  scale_y_continuous(limits = c(0,ymax), expand = c(0, 0))\n",
    "\n",
    "# Remove background and axes text\n",
    "p <- p + \n",
    "  theme(axis.title.x = element_blank(), \n",
    "        axis.title.y = element_blank(),\n",
    "        axis.text.x = element_blank(),\n",
    "        axis.text.y = element_blank(), \n",
    "        axis.ticks.x = element_blank(), \n",
    "        axis.ticks.y = element_blank(), \n",
    "        panel.background = element_blank(), axis.line.y = element_line(), \n",
    "        panel.grid.major = element_blank(), panel.grid.minor = element_blank())\n",
    "\n",
    "# Add horizontal line for the mean value\n",
    "p <- p + geom_vline(xintercept = mean_val/10^5, color = \"gray\", linetype = 2, \n",
    "                    size = 1.3)\n",
    "\n",
    "\n",
    "# Visually explain the concept of noise\n",
    "# p <- p + geom_segment(aes(x = 0, y = ymid, \n",
    "#                           xend = 0.3, yend = ymid),\n",
    "#                       arrow = arrow(length = unit(0.3, \"cm\")), size = 0.7)\n",
    "# p <- p + geom_segment(aes(x = 1.3, y = ymid, \n",
    "#                           xend = 1, yend = ymid),\n",
    "#                       arrow = arrow(length = unit(0.3, \"cm\")), size = 0.7) + \n",
    "#   geom_text(data = data.frame(x = 1.5, y = ymid, label = \"Noise\"), \n",
    "#             mapping = aes(x = x, y = y, label = label), color = \"black\", size = 5)\n",
    "p.Ac.hist <- p"
   ]
  },
  {
   "cell_type": "markdown",
   "metadata": {},
   "source": [
    "### Representative plot of promoter activity"
   ]
  },
  {
   "cell_type": "code",
   "execution_count": 73,
   "metadata": {},
   "outputs": [
    {
     "data": {
      "text/plain": [
       "<ScaleContinuousPosition>\n",
       " Range:  \n",
       " Limits:    0 --   20"
      ]
     },
     "metadata": {},
     "output_type": "display_data"
    },
    {
     "data": {
      "image/png": "[encoded data removed]",
      "text/plain": [
       "plot without title"
      ]
     },
     "metadata": {
      "image/png": {
       "height": 420,
       "width": 420
      }
     },
     "output_type": "display_data"
    }
   ],
   "source": [
    "on_frac = (params['kon'])/(params['kon'] + params['koff'])\n",
    "col <- \"blue\" # color for the single-cell time trajectories\n",
    "\n",
    "# Plot the first trajectory\n",
    "id <- which(out.Ac[[1]]$time >= skip_hours * 60 * 60)\n",
    "dat.plot <- data.frame(x = c(0, 1, 1, 2, 2, 3, 4, 4, 5, 5, 6, 7, 7, 8, 8, 9, 10, 10, \n",
    "                            11, 11, 12, 13, 13, 14, 14, 15, 16, 16, 17, 17, 18, 19, 19, \n",
    "                            20, 20, 21), \n",
    "                        y = c(0, 0, 1, 1, 0, 0, 0, 1, 1, 0, 0, 0, 1, 1, 0, 0, 0, 1, \n",
    "                             1, 0, 0, 0, 1, 1, 0, 0, 0, 1, 1, 0, 0, 0, 1, 1, 0, 0))\n",
    "p <- ggline(dat.plot, x = \"x\", y = \"y\", \n",
    "            numeric.x.axis = T, \n",
    "            linetype = \"solid\",\n",
    "            plot_type = c(\"l\"),\n",
    "            fill = col,           \n",
    "            color = col,\n",
    "            sort.by.groups = FALSE,\n",
    "            x.text.angle = 0,\n",
    "            ylab = expression(atop(\"Promoter\", \n",
    "                                   \"(activity)\")),\n",
    "            xlab = \"Time\",\n",
    "            # legend = \"bottom\",\n",
    "            legend.title = \"\",\n",
    "            y.text.angle = 0,\n",
    "            rotate = F,\n",
    "            font.x = 14, \n",
    "            font.y = 14,\n",
    "            font.tickslab = 13,\n",
    "            size = 0.9,\n",
    "            point.size = 0.1,\n",
    "            # font.label = 14,\n",
    "            theme = theme_pubr()\n",
    ")\n",
    "# Add horizontal line for the mean value\n",
    "p <- p + geom_hline(yintercept = 1, color = \"gray\", linetype = 2, \n",
    "                    size = 1.3)\n",
    "\n",
    "# p <- p  + \n",
    "#   geom_text(data = data.frame(x = 20.5, y = 0.9, label = \"ON\"), \n",
    "#             mapping = aes(x = x, y = y, label = label), color = \"black\", size = 5) + \n",
    "# geom_text(data = data.frame(x = 20.5, y = 0.2, label = \"OFF\"), \n",
    "#             mapping = aes(x = x, y = y, label = label), color = \"black\", size = 5)\n",
    "\n",
    "# Remove white space between the plot and the axes\n",
    "p <- p + xlim(c(0, 21.5))\n",
    "  scale_x_continuous(limits = c(0,20), expand = c(0, 0))\n",
    "\n",
    "# Adjust font sizes for the title and the axes\n",
    "p <- p + \n",
    "  theme(plot.title = element_text(size = 15, color = \"black\", face=\"bold.italic\"), \n",
    "        axis.title.x = element_text(size = 13, colour = \"black\", face = \"bold\"), \n",
    "        axis.title.y = element_text(size = 13, colour = \"black\", face = \"bold\"), \n",
    "        axis.text.x = element_blank(),\n",
    "        axis.text.y = element_blank(), \n",
    "        axis.ticks.x = element_blank(), \n",
    "        axis.ticks.y = element_blank())\n",
    "p.Ac.promoter <- p\n",
    "print(p)"
   ]
  },
  {
   "cell_type": "markdown",
   "metadata": {},
   "source": [
    "### Combine plots"
   ]
  },
  {
   "cell_type": "code",
   "execution_count": null,
   "metadata": {},
   "outputs": [],
   "source": [
    "first.row <- plot_grid(p.Ac.time, p.Ac.hist, ncol = 2, \n",
    "                    labels = \"\", align = \"h\", rel_widths = c(1.5, 1))\n",
    "second.row <- plot_grid(p.Ac.promoter, NULL, ncol = 2, labels = \"\", align = \"h\", \n",
    "                       rel_widths = c(1.5, 1))\n",
    "plot.Ac <- plot_grid(first.row, second.row, nrow = 2, rel_heights = c(2.5, 1))\n",
    "save_plot(\"Plot_Ac.pdf\", plot.Ac, base_height = 4, base_width = 6)\n",
    "print(plot.Ac)"
   ]
  },
  {
   "cell_type": "markdown",
   "metadata": {},
   "source": [
    "## Simulations for activator + enhancer"
   ]
  },
  {
   "cell_type": "markdown",
   "metadata": {},
   "source": [
    "### Setup simulation parameters and initial state"
   ]
  },
  {
   "cell_type": "code",
   "execution_count": 80,
   "metadata": {},
   "outputs": [],
   "source": [
    "# reaction rates\n",
    "rxn_rates = c(0.000625, 0.001041667, 0.208333333, 0.000115525, 0.032346868, 7.70164E-05) \n",
    "\n",
    "params <- c(kon = rxn_rates[1], koff = rxn_rates[2], km = rxn_rates[3], \n",
    "                   gamma_m = rxn_rates[4], kp = rxn_rates[5], gamma_p = rxn_rates[6])\n",
    "\n",
    "# initial state vector\n",
    "# initial_state <- c(Gon = 1, Goff = 0,  \n",
    "#             M = floor((rxn_rates[1] * rxn_rates[3])/\n",
    "#                       ((rxn_rates[1] + rxn_rates[2]) * rxn_rates[4])), \n",
    "#             P = floor((rxn_rates[5])/rxn_rates[6])*\n",
    "#               floor((rxn_rates[1] * rxn_rates[3])/\n",
    "#                       ((rxn_rates[1] + rxn_rates[2]) * rxn_rates[4])))\n",
    "\n",
    "# reactions in the system\n",
    "reactions <- list(reaction(~kon * Goff, c(Goff = -1, Gon = +1), \"promoter_on\"),  \n",
    "                  reaction(~koff * Gon, c(Goff = +1, Gon = -1), \"promoter_off\"), \n",
    "                  reaction(~km * Gon, c(M = +1), \"transcription\"), \n",
    "                  reaction(~gamma_m * M, c(M = -1), \"mRNA_degradation\"), \n",
    "                  reaction(~kp * M, c(P = +1), \"translation\"), \n",
    "                  reaction(~gamma_p * P, c(P = -1), \"protein_degradation\"))\n",
    "\n",
    "# num. of hours of simulation to use as burn-in\n",
    "skip_hours <- 0"
   ]
  },
  {
   "cell_type": "markdown",
   "metadata": {},
   "source": [
    "### Run simulation using Gillespie's Direct Method (DM)"
   ]
  },
  {
   "cell_type": "code",
   "execution_count": 81,
   "metadata": {},
   "outputs": [
    {
     "name": "stdout",
     "output_type": "stream",
     "text": [
      "  |======================================================================| 100%"
     ]
    }
   ],
   "source": [
    "out.Ac_NE <- foreach( b = 1:nboot, .options.snow = opts )%dopar%{\n",
    "  set.seed(b)\n",
    "  library(doParallel)\n",
    "  library(GillespieSSA2)\n",
    "  initial_state <- c(Gon = 1, Goff = 0,  \n",
    "            M = floor((rxn_rates[1] * rxn_rates[3])/\n",
    "                      ((rxn_rates[1] + rxn_rates[2]) * rxn_rates[4])), \n",
    "            P = out.NE[[b]]$Protein[length(out.NE[[b]]$Protein)])    \n",
    "  out <-\n",
    "    ssa(\n",
    "      initial_state = initial_state,\n",
    "      reactions = reactions,\n",
    "      params = params,\n",
    "      method = ssa_exact(),\n",
    "      final_time = (20 + skip_hours) * 60 * 60,\n",
    "      census_interval = 10,\n",
    "      verbose = TRUE\n",
    "    )\n",
    "  return(list(time = out$time, Protein = out$state[, 4]))\n",
    "}"
   ]
  },
  {
   "cell_type": "markdown",
   "metadata": {},
   "source": [
    "### Extract single-cell protein counts at the end of the simulation. Take all single-cell data from all time points; assume that the process is ergodic."
   ]
  },
  {
   "cell_type": "code",
   "execution_count": 88,
   "metadata": {},
   "outputs": [],
   "source": [
    "steady_state <- rep(0, nboot)\n",
    "for( i in 1:nboot ){\n",
    "  steady_state[i] <- out.Ac_NE[[i]]$Protein[length(out.Ac_NE[[i]]$Protein)]\n",
    "}"
   ]
  },
  {
   "cell_type": "markdown",
   "metadata": {},
   "source": [
    "### Plot for single-cell trajectories protein count"
   ]
  },
  {
   "cell_type": "code",
   "execution_count": 85,
   "metadata": {},
   "outputs": [
    {
     "name": "stderr",
     "output_type": "stream",
     "text": [
      "Scale for 'y' is already present. Adding another scale for 'y', which will\n",
      "replace the existing scale.\n",
      "\n"
     ]
    }
   ],
   "source": [
    "col <- \"red\" # color for the single-cell time trajectories\n",
    "\n",
    "# Plot gray region showing threshold region for active HIV replication\n",
    "dat.polygon <- data.frame(x = c(0, 20, 20, 0), \n",
    "                          y = c(3, 3, 4.5, 4.5))\n",
    "p <- ggplot()\n",
    "p <- p + geom_polygon(aes(x = x, y = y), data = dat.polygon, fill = \"gray\", \n",
    "                      col = \"white\", alpha = 0.5) \n",
    "# + \n",
    "#   geom_text(data = data.frame(x = 10, y = 4, label = \"Active \\n replication\"), \n",
    "#             mapping = aes(x = x, y = y, label = label), color = \"white\", size = 5)\n",
    "\n",
    "# Plot the first trajectory\n",
    "# id <- which(out.Ac_NE[[1]]$time >= skip_hours * 60 * 60)\n",
    "# dat.plot <- data.frame(x = out.Ac_NE[[1]]$time[id]/(60 * 60) - \n",
    "#                          min(out.Ac_NE[[1]]$time[id]/(60 * 60)), \n",
    "#                         y = out.Ac_NE[[1]]$Protein[id]/10^5)\n",
    "# p <- ggline(dat.plot, x = \"x\", y = \"y\", \n",
    "#             numeric.x.axis = T, \n",
    "#             linetype = \"solid\",\n",
    "#             plot_type = c(\"l\"),\n",
    "#             fill = col,           \n",
    "#             color = col,\n",
    "#             sort.by.groups = FALSE,\n",
    "#             x.text.angle = 0,\n",
    "#             ylab = expression(atop(\"Gene product\", \n",
    "#                                    \"(molecules\" %*% \"10\"^\"5\"*\")\")),\n",
    "#             xlab = \"Time (hrs)\",\n",
    "#             # legend = \"bottom\",\n",
    "#             legend.title = \"\",\n",
    "#             y.text.angle = 0,\n",
    "#             rotate = F,\n",
    "#             font.x = 14, \n",
    "#             font.y = 14,\n",
    "#             font.tickslab = 13,\n",
    "#             size = 0.9,\n",
    "#             point.size = 0.1,\n",
    "#             # font.label = 14,\n",
    "#             theme = theme_pubr()\n",
    "# )\n",
    "\n",
    "#Add all the time trajectors to the plot\n",
    "id.sample <- 1:nboot\n",
    "for( b in id.sample ){\n",
    "  id <- which(out.Ac_NE[[b]]$time >= skip_hours * 60 * 60)\n",
    "  dat.plot <- data.frame(x = out.Ac_NE[[b]]$time[id]/(60 * 60) - \n",
    "                           min(out.Ac_NE[[1]]$time[id]/(60 * 60)), \n",
    "                         y = out.Ac_NE[[b]]$Protein[id]/10^5)\n",
    "  p <- p + geom_line(data = dat.plot, mapping = aes(x = x, y = y), color = col, \n",
    "                     linetype = 1, size = 0.9)\n",
    "}\n",
    "\n",
    "# Add horizontal line for the mean value\n",
    "p <- p + geom_hline(yintercept = mean_val/10^5, color = \"gray\", linetype = 2, \n",
    "                    size = 1.3)\n",
    "\n",
    "# Write 'Mean' above the mean horizontal line\n",
    "# p <- p + \n",
    "# geom_text(data = data.frame(x = 10, y = 1, label = \"Mean\"), \n",
    "#             mapping = aes(x = x, y = y, label = label), color = \"white\", size = 5)\n",
    "\n",
    "# Remove white space between the plot and the axes\n",
    "p <- p + ylim(c(0, 4.5)) + \n",
    "  scale_x_continuous(limits = c(0,20), expand = c(0, 0)) +\n",
    "  scale_y_continuous(limits = c(0,4.5), expand = c(0, 0))\n",
    "\n",
    "# Add axes labels\n",
    "p <- p + xlab(\"Time (hrs)\") + ylab(expression(atop(\"Gene product\", \n",
    "                                   \"(molecules\" %*% \"10\"^\"5\"*\")\")))\n",
    "\n",
    "# Adjust font sizes for the title and the axes\n",
    "p <- p + \n",
    "  theme(plot.title = element_text(size = 16, color = \"black\", face=\"bold.italic\"), \n",
    "        axis.title.x = element_text(size = 14, colour = \"black\", face = \"bold\"), \n",
    "        axis.title.y = element_text(size = 14, colour = \"black\", face = \"bold\"), \n",
    "        axis.text.x = element_text(size = 13, colour = \"black\"), \n",
    "        axis.text.y = element_text(size = 13, colour = \"black\"), \n",
    "        panel.background = element_blank(),\n",
    "        axis.line.y = element_line(color = \"black\"), axis.line.x = element_line(color = \"black\"),\n",
    "        panel.grid.major = element_blank(), panel.grid.minor = element_blank())\n",
    "p.Ac_NE.time <- p +  ggtitle(\"Activator + noise enhancer\")"
   ]
  },
  {
   "cell_type": "markdown",
   "metadata": {},
   "source": [
    "### Histogram for protein count at the end of simulation"
   ]
  },
  {
   "cell_type": "code",
   "execution_count": 92,
   "metadata": {},
   "outputs": [
    {
     "name": "stderr",
     "output_type": "stream",
     "text": [
      "Scale for 'x' is already present. Adding another scale for 'x', which will\n",
      "replace the existing scale.\n",
      "\n"
     ]
    }
   ],
   "source": [
    "# y-axis limit\n",
    "ymax <- 70\n",
    "ymid <- 40\n",
    "\n",
    "# Draw a gray region which defines region of active HIV replication\n",
    "dat.polygon <- data.frame(y = c(0, ymax, ymax, 0), \n",
    "                          x = c(3, 3, 4.5, 4.5))\n",
    "p <- ggplot() + geom_polygon(aes(x = x, y = y), data = dat.polygon, fill = \"gray\", \n",
    "                      col = \"white\", alpha = 0.5)\n",
    "\n",
    "# Save single-cell protein count data at the end of simulation in a data frame\n",
    "dat.plot <- data.frame(x = steady_state/10^5)\n",
    "\n",
    "# Plot histogram\n",
    "p <- p + \n",
    "  geom_histogram(data = dat.plot, mapping = aes(x = x), \n",
    "                 color=col, fill=col, bins = 50) + coord_flip()\n",
    "\n",
    "# Remove white space between the plot and the axes\n",
    "p <- p + xlim(c(0, 4.5)) + \n",
    "  scale_x_continuous(limits = c(0,4.5), expand = c(0, 0)) + \n",
    "  scale_y_continuous(limits = c(0,ymax), expand = c(0, 0))\n",
    "\n",
    "# Remove background and axes text\n",
    "p <- p + \n",
    "  theme(axis.title.x = element_blank(), \n",
    "        axis.title.y = element_blank(),\n",
    "        axis.text.x = element_blank(),\n",
    "        axis.text.y = element_blank(), \n",
    "        axis.ticks.x = element_blank(), \n",
    "        axis.ticks.y = element_blank(), \n",
    "        panel.background = element_blank(), axis.line.y = element_line(), \n",
    "        panel.grid.major = element_blank(), panel.grid.minor = element_blank())\n",
    "\n",
    "# Add horizontal line for the mean value\n",
    "p <- p + geom_vline(xintercept = mean_val/10^5, color = \"gray\", linetype = 2, \n",
    "                    size = 1.3)\n",
    "\n",
    "\n",
    "# Visually explain the concept of noise\n",
    "# p <- p + geom_segment(aes(x = 0, y = ymid, \n",
    "#                           xend = 0.3, yend = ymid),\n",
    "#                       arrow = arrow(length = unit(0.3, \"cm\")), size = 0.7)\n",
    "# p <- p + geom_segment(aes(x = 1.3, y = ymid, \n",
    "#                           xend = 1, yend = ymid),\n",
    "#                       arrow = arrow(length = unit(0.3, \"cm\")), size = 0.7) + \n",
    "#   geom_text(data = data.frame(x = 1.5, y = ymid, label = \"Noise\"), \n",
    "#             mapping = aes(x = x, y = y, label = label), color = \"black\", size = 5)\n",
    "p.Ac_NE.hist <- p"
   ]
  },
  {
   "cell_type": "markdown",
   "metadata": {},
   "source": [
    "### Representative plot of promoter activity"
   ]
  },
  {
   "cell_type": "code",
   "execution_count": 94,
   "metadata": {},
   "outputs": [
    {
     "data": {
      "text/plain": [
       "<ScaleContinuousPosition>\n",
       " Range:  \n",
       " Limits:    0 --   20"
      ]
     },
     "metadata": {},
     "output_type": "display_data"
    },
    {
     "data": {
      "image/png": "[encoded data removed]",
      "text/plain": [
       "plot without title"
      ]
     },
     "metadata": {
      "image/png": {
       "height": 420,
       "width": 420
      }
     },
     "output_type": "display_data"
    }
   ],
   "source": [
    "on_frac = (params['kon'])/(params['kon'] + params['koff'])\n",
    "col <- \"red\" # color for the single-cell time trajectories\n",
    "\n",
    "# Plot the first trajectory\n",
    "id <- which(out.Ac_NE[[1]]$time >= skip_hours * 60 * 60)\n",
    "dat.plot <- data.frame(x = c(0, 1, 1, 2, 3, 3, 4, 4, 5, 6, 6, 7, 7, 8, 9, 9, \n",
    "                            10, 10, 11, 12, 12, 13, 13, 14, 15, 15, 16, 16, \n",
    "                            17, 18, 18, 19, 19, 20, 21, 21), \n",
    "                        y = c(0, 0, 1, 1, 1, 0, 0, 1, 1, 1, 0, 0, 1, 1, 1, 0, \n",
    "                             0, 1, 1, 1, 0, 0, 1, 1, 1, 0, 0, 1, \n",
    "                             1, 1, 0, 0, 1, 1, 1, 0))\n",
    "p <- ggline(dat.plot, x = \"x\", y = \"y\", \n",
    "            numeric.x.axis = T, \n",
    "            linetype = \"solid\",\n",
    "            plot_type = c(\"l\"),\n",
    "            fill = col,           \n",
    "            color = col,\n",
    "            sort.by.groups = FALSE,\n",
    "            x.text.angle = 0,\n",
    "            ylab = expression(atop(\"Promoter\", \n",
    "                                   \"(activity)\")),\n",
    "            xlab = \"Time\",\n",
    "            # legend = \"bottom\",\n",
    "            legend.title = \"\",\n",
    "            y.text.angle = 0,\n",
    "            rotate = F,\n",
    "            font.x = 14, \n",
    "            font.y = 14,\n",
    "            font.tickslab = 13,\n",
    "            size = 0.9,\n",
    "            point.size = 0.1,\n",
    "            # font.label = 14,\n",
    "            theme = theme_pubr()\n",
    ")\n",
    "# Add horizontal line for the mean value\n",
    "p <- p + geom_hline(yintercept = 1, color = \"gray\", linetype = 2, \n",
    "                    size = 1.3)\n",
    "\n",
    "# p <- p  + \n",
    "#   geom_text(data = data.frame(x = 20.5, y = 0.9, label = \"ON\"), \n",
    "#             mapping = aes(x = x, y = y, label = label), color = \"black\", size = 5) + \n",
    "# geom_text(data = data.frame(x = 20.5, y = 0.2, label = \"OFF\"), \n",
    "#             mapping = aes(x = x, y = y, label = label), color = \"black\", size = 5)\n",
    "\n",
    "# Remove white space between the plot and the axes\n",
    "p <- p + xlim(c(0, 21.5))\n",
    "  scale_x_continuous(limits = c(0,20), expand = c(0, 0))\n",
    "\n",
    "# Adjust font sizes for the title and the axes\n",
    "p <- p + \n",
    "  theme(plot.title = element_text(size = 15, color = \"black\", face=\"bold.italic\"), \n",
    "        axis.title.x = element_text(size = 13, colour = \"black\", face = \"bold\"), \n",
    "        axis.title.y = element_text(size = 13, colour = \"black\", face = \"bold\"), \n",
    "        axis.text.x = element_blank(),\n",
    "        axis.text.y = element_blank(), \n",
    "        axis.ticks.x = element_blank(), \n",
    "        axis.ticks.y = element_blank())\n",
    "p.Ac_NE.promoter <- p\n",
    "print(p)"
   ]
  },
  {
   "cell_type": "markdown",
   "metadata": {},
   "source": [
    "### Combine plots"
   ]
  },
  {
   "cell_type": "code",
   "execution_count": null,
   "metadata": {},
   "outputs": [],
   "source": [
    "first.row <- plot_grid(p.Ac_NE.time, p.Ac_NE.hist, ncol = 2, \n",
    "                    labels = \"\", align = \"h\", rel_widths = c(1.5, 1))\n",
    "second.row <- plot_grid(p.Ac_NE.promoter, NULL, ncol = 2, labels = \"\", align = \"h\", \n",
    "                       rel_widths = c(1.5, 1))\n",
    "plot.Ac_NE <- plot_grid(first.row, second.row, nrow = 2, rel_heights = c(2.5, 1))\n",
    "save_plot(\"Plot_Ac_NE.pdf\", plot.Ac_NE, base_height = 4, base_width = 6)\n",
    "print(plot.Ac_NE)"
   ]
  }
 ],
 "metadata": {
  "kernelspec": {
   "display_name": "R",
   "language": "R",
   "name": "ir"
  },
  "language_info": {
   "codemirror_mode": "r",
   "file_extension": ".r",
   "mimetype": "text/x-r-source",
   "name": "R",
   "pygments_lexer": "r",
   "version": "4.0.4"
  }
 },
 "nbformat": 4,
 "nbformat_minor": 2
}
