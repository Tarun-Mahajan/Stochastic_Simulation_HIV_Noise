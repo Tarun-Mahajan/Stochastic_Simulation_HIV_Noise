{
 "cells": [
  {
   "cell_type": "markdown",
   "metadata": {},
   "source": [
    "# Notebook to recreate Figs. 1C and 1D from Alex et al."
   ]
  },
  {
   "cell_type": "markdown",
   "metadata": {},
   "source": [
    "# Fig. 1C--Simulations for the two-state promoter for HIV"
   ]
  },
  {
   "cell_type": "markdown",
   "metadata": {},
   "source": [
    "### Load the required packages"
   ]
  },
  {
   "cell_type": "code",
   "execution_count": 11,
   "metadata": {},
   "outputs": [],
   "source": [
    "library(Matrix)\n",
    "library(GillespieSSA2)\n",
    "library(doSNOW)\n",
    "library(foreach)\n",
    "library(ggpubr)\n",
    "library(cowplot)\n",
    "library(scales)\n",
    "library(latex2exp)"
   ]
  },
  {
   "cell_type": "markdown",
   "metadata": {},
   "source": [
    "### Create cluster to use foreach for parallel computation"
   ]
  },
  {
   "cell_type": "code",
   "execution_count": 2,
   "metadata": {},
   "outputs": [
    {
     "data": {
      "text/html": [
       "<ol>\n",
       "\t<li><style>\n",
       ".list-inline {list-style: none; margin:0; padding: 0}\n",
       ".list-inline>li {display: inline-block}\n",
       ".list-inline>li:not(:last-child)::after {content: \"\\00b7\"; padding: 0 .5ex}\n",
       "</style>\n",
       "<ol class=list-inline><li>'GillespieSSA2'</li><li>'snow'</li><li>'stats'</li><li>'graphics'</li><li>'grDevices'</li><li>'utils'</li><li>'datasets'</li><li>'methods'</li><li>'base'</li></ol>\n",
       "</li>\n",
       "\t<li><style>\n",
       ".list-inline {list-style: none; margin:0; padding: 0}\n",
       ".list-inline>li {display: inline-block}\n",
       ".list-inline>li:not(:last-child)::after {content: \"\\00b7\"; padding: 0 .5ex}\n",
       "</style>\n",
       "<ol class=list-inline><li>'GillespieSSA2'</li><li>'snow'</li><li>'stats'</li><li>'graphics'</li><li>'grDevices'</li><li>'utils'</li><li>'datasets'</li><li>'methods'</li><li>'base'</li></ol>\n",
       "</li>\n",
       "\t<li><style>\n",
       ".list-inline {list-style: none; margin:0; padding: 0}\n",
       ".list-inline>li {display: inline-block}\n",
       ".list-inline>li:not(:last-child)::after {content: \"\\00b7\"; padding: 0 .5ex}\n",
       "</style>\n",
       "<ol class=list-inline><li>'GillespieSSA2'</li><li>'snow'</li><li>'stats'</li><li>'graphics'</li><li>'grDevices'</li><li>'utils'</li><li>'datasets'</li><li>'methods'</li><li>'base'</li></ol>\n",
       "</li>\n",
       "\t<li><style>\n",
       ".list-inline {list-style: none; margin:0; padding: 0}\n",
       ".list-inline>li {display: inline-block}\n",
       ".list-inline>li:not(:last-child)::after {content: \"\\00b7\"; padding: 0 .5ex}\n",
       "</style>\n",
       "<ol class=list-inline><li>'GillespieSSA2'</li><li>'snow'</li><li>'stats'</li><li>'graphics'</li><li>'grDevices'</li><li>'utils'</li><li>'datasets'</li><li>'methods'</li><li>'base'</li></ol>\n",
       "</li>\n",
       "\t<li><style>\n",
       ".list-inline {list-style: none; margin:0; padding: 0}\n",
       ".list-inline>li {display: inline-block}\n",
       ".list-inline>li:not(:last-child)::after {content: \"\\00b7\"; padding: 0 .5ex}\n",
       "</style>\n",
       "<ol class=list-inline><li>'GillespieSSA2'</li><li>'snow'</li><li>'stats'</li><li>'graphics'</li><li>'grDevices'</li><li>'utils'</li><li>'datasets'</li><li>'methods'</li><li>'base'</li></ol>\n",
       "</li>\n",
       "\t<li><style>\n",
       ".list-inline {list-style: none; margin:0; padding: 0}\n",
       ".list-inline>li {display: inline-block}\n",
       ".list-inline>li:not(:last-child)::after {content: \"\\00b7\"; padding: 0 .5ex}\n",
       "</style>\n",
       "<ol class=list-inline><li>'GillespieSSA2'</li><li>'snow'</li><li>'stats'</li><li>'graphics'</li><li>'grDevices'</li><li>'utils'</li><li>'datasets'</li><li>'methods'</li><li>'base'</li></ol>\n",
       "</li>\n",
       "\t<li><style>\n",
       ".list-inline {list-style: none; margin:0; padding: 0}\n",
       ".list-inline>li {display: inline-block}\n",
       ".list-inline>li:not(:last-child)::after {content: \"\\00b7\"; padding: 0 .5ex}\n",
       "</style>\n",
       "<ol class=list-inline><li>'GillespieSSA2'</li><li>'snow'</li><li>'stats'</li><li>'graphics'</li><li>'grDevices'</li><li>'utils'</li><li>'datasets'</li><li>'methods'</li><li>'base'</li></ol>\n",
       "</li>\n",
       "\t<li><style>\n",
       ".list-inline {list-style: none; margin:0; padding: 0}\n",
       ".list-inline>li {display: inline-block}\n",
       ".list-inline>li:not(:last-child)::after {content: \"\\00b7\"; padding: 0 .5ex}\n",
       "</style>\n",
       "<ol class=list-inline><li>'GillespieSSA2'</li><li>'snow'</li><li>'stats'</li><li>'graphics'</li><li>'grDevices'</li><li>'utils'</li><li>'datasets'</li><li>'methods'</li><li>'base'</li></ol>\n",
       "</li>\n",
       "\t<li><style>\n",
       ".list-inline {list-style: none; margin:0; padding: 0}\n",
       ".list-inline>li {display: inline-block}\n",
       ".list-inline>li:not(:last-child)::after {content: \"\\00b7\"; padding: 0 .5ex}\n",
       "</style>\n",
       "<ol class=list-inline><li>'GillespieSSA2'</li><li>'snow'</li><li>'stats'</li><li>'graphics'</li><li>'grDevices'</li><li>'utils'</li><li>'datasets'</li><li>'methods'</li><li>'base'</li></ol>\n",
       "</li>\n",
       "\t<li><style>\n",
       ".list-inline {list-style: none; margin:0; padding: 0}\n",
       ".list-inline>li {display: inline-block}\n",
       ".list-inline>li:not(:last-child)::after {content: \"\\00b7\"; padding: 0 .5ex}\n",
       "</style>\n",
       "<ol class=list-inline><li>'GillespieSSA2'</li><li>'snow'</li><li>'stats'</li><li>'graphics'</li><li>'grDevices'</li><li>'utils'</li><li>'datasets'</li><li>'methods'</li><li>'base'</li></ol>\n",
       "</li>\n",
       "</ol>\n"
      ],
      "text/latex": [
       "\\begin{enumerate}\n",
       "\\item \\begin{enumerate*}\n",
       "\\item 'GillespieSSA2'\n",
       "\\item 'snow'\n",
       "\\item 'stats'\n",
       "\\item 'graphics'\n",
       "\\item 'grDevices'\n",
       "\\item 'utils'\n",
       "\\item 'datasets'\n",
       "\\item 'methods'\n",
       "\\item 'base'\n",
       "\\end{enumerate*}\n",
       "\n",
       "\\item \\begin{enumerate*}\n",
       "\\item 'GillespieSSA2'\n",
       "\\item 'snow'\n",
       "\\item 'stats'\n",
       "\\item 'graphics'\n",
       "\\item 'grDevices'\n",
       "\\item 'utils'\n",
       "\\item 'datasets'\n",
       "\\item 'methods'\n",
       "\\item 'base'\n",
       "\\end{enumerate*}\n",
       "\n",
       "\\item \\begin{enumerate*}\n",
       "\\item 'GillespieSSA2'\n",
       "\\item 'snow'\n",
       "\\item 'stats'\n",
       "\\item 'graphics'\n",
       "\\item 'grDevices'\n",
       "\\item 'utils'\n",
       "\\item 'datasets'\n",
       "\\item 'methods'\n",
       "\\item 'base'\n",
       "\\end{enumerate*}\n",
       "\n",
       "\\item \\begin{enumerate*}\n",
       "\\item 'GillespieSSA2'\n",
       "\\item 'snow'\n",
       "\\item 'stats'\n",
       "\\item 'graphics'\n",
       "\\item 'grDevices'\n",
       "\\item 'utils'\n",
       "\\item 'datasets'\n",
       "\\item 'methods'\n",
       "\\item 'base'\n",
       "\\end{enumerate*}\n",
       "\n",
       "\\item \\begin{enumerate*}\n",
       "\\item 'GillespieSSA2'\n",
       "\\item 'snow'\n",
       "\\item 'stats'\n",
       "\\item 'graphics'\n",
       "\\item 'grDevices'\n",
       "\\item 'utils'\n",
       "\\item 'datasets'\n",
       "\\item 'methods'\n",
       "\\item 'base'\n",
       "\\end{enumerate*}\n",
       "\n",
       "\\item \\begin{enumerate*}\n",
       "\\item 'GillespieSSA2'\n",
       "\\item 'snow'\n",
       "\\item 'stats'\n",
       "\\item 'graphics'\n",
       "\\item 'grDevices'\n",
       "\\item 'utils'\n",
       "\\item 'datasets'\n",
       "\\item 'methods'\n",
       "\\item 'base'\n",
       "\\end{enumerate*}\n",
       "\n",
       "\\item \\begin{enumerate*}\n",
       "\\item 'GillespieSSA2'\n",
       "\\item 'snow'\n",
       "\\item 'stats'\n",
       "\\item 'graphics'\n",
       "\\item 'grDevices'\n",
       "\\item 'utils'\n",
       "\\item 'datasets'\n",
       "\\item 'methods'\n",
       "\\item 'base'\n",
       "\\end{enumerate*}\n",
       "\n",
       "\\item \\begin{enumerate*}\n",
       "\\item 'GillespieSSA2'\n",
       "\\item 'snow'\n",
       "\\item 'stats'\n",
       "\\item 'graphics'\n",
       "\\item 'grDevices'\n",
       "\\item 'utils'\n",
       "\\item 'datasets'\n",
       "\\item 'methods'\n",
       "\\item 'base'\n",
       "\\end{enumerate*}\n",
       "\n",
       "\\item \\begin{enumerate*}\n",
       "\\item 'GillespieSSA2'\n",
       "\\item 'snow'\n",
       "\\item 'stats'\n",
       "\\item 'graphics'\n",
       "\\item 'grDevices'\n",
       "\\item 'utils'\n",
       "\\item 'datasets'\n",
       "\\item 'methods'\n",
       "\\item 'base'\n",
       "\\end{enumerate*}\n",
       "\n",
       "\\item \\begin{enumerate*}\n",
       "\\item 'GillespieSSA2'\n",
       "\\item 'snow'\n",
       "\\item 'stats'\n",
       "\\item 'graphics'\n",
       "\\item 'grDevices'\n",
       "\\item 'utils'\n",
       "\\item 'datasets'\n",
       "\\item 'methods'\n",
       "\\item 'base'\n",
       "\\end{enumerate*}\n",
       "\n",
       "\\end{enumerate}\n"
      ],
      "text/markdown": [
       "1. 1. 'GillespieSSA2'\n",
       "2. 'snow'\n",
       "3. 'stats'\n",
       "4. 'graphics'\n",
       "5. 'grDevices'\n",
       "6. 'utils'\n",
       "7. 'datasets'\n",
       "8. 'methods'\n",
       "9. 'base'\n",
       "\n",
       "\n",
       "\n",
       "2. 1. 'GillespieSSA2'\n",
       "2. 'snow'\n",
       "3. 'stats'\n",
       "4. 'graphics'\n",
       "5. 'grDevices'\n",
       "6. 'utils'\n",
       "7. 'datasets'\n",
       "8. 'methods'\n",
       "9. 'base'\n",
       "\n",
       "\n",
       "\n",
       "3. 1. 'GillespieSSA2'\n",
       "2. 'snow'\n",
       "3. 'stats'\n",
       "4. 'graphics'\n",
       "5. 'grDevices'\n",
       "6. 'utils'\n",
       "7. 'datasets'\n",
       "8. 'methods'\n",
       "9. 'base'\n",
       "\n",
       "\n",
       "\n",
       "4. 1. 'GillespieSSA2'\n",
       "2. 'snow'\n",
       "3. 'stats'\n",
       "4. 'graphics'\n",
       "5. 'grDevices'\n",
       "6. 'utils'\n",
       "7. 'datasets'\n",
       "8. 'methods'\n",
       "9. 'base'\n",
       "\n",
       "\n",
       "\n",
       "5. 1. 'GillespieSSA2'\n",
       "2. 'snow'\n",
       "3. 'stats'\n",
       "4. 'graphics'\n",
       "5. 'grDevices'\n",
       "6. 'utils'\n",
       "7. 'datasets'\n",
       "8. 'methods'\n",
       "9. 'base'\n",
       "\n",
       "\n",
       "\n",
       "6. 1. 'GillespieSSA2'\n",
       "2. 'snow'\n",
       "3. 'stats'\n",
       "4. 'graphics'\n",
       "5. 'grDevices'\n",
       "6. 'utils'\n",
       "7. 'datasets'\n",
       "8. 'methods'\n",
       "9. 'base'\n",
       "\n",
       "\n",
       "\n",
       "7. 1. 'GillespieSSA2'\n",
       "2. 'snow'\n",
       "3. 'stats'\n",
       "4. 'graphics'\n",
       "5. 'grDevices'\n",
       "6. 'utils'\n",
       "7. 'datasets'\n",
       "8. 'methods'\n",
       "9. 'base'\n",
       "\n",
       "\n",
       "\n",
       "8. 1. 'GillespieSSA2'\n",
       "2. 'snow'\n",
       "3. 'stats'\n",
       "4. 'graphics'\n",
       "5. 'grDevices'\n",
       "6. 'utils'\n",
       "7. 'datasets'\n",
       "8. 'methods'\n",
       "9. 'base'\n",
       "\n",
       "\n",
       "\n",
       "9. 1. 'GillespieSSA2'\n",
       "2. 'snow'\n",
       "3. 'stats'\n",
       "4. 'graphics'\n",
       "5. 'grDevices'\n",
       "6. 'utils'\n",
       "7. 'datasets'\n",
       "8. 'methods'\n",
       "9. 'base'\n",
       "\n",
       "\n",
       "\n",
       "10. 1. 'GillespieSSA2'\n",
       "2. 'snow'\n",
       "3. 'stats'\n",
       "4. 'graphics'\n",
       "5. 'grDevices'\n",
       "6. 'utils'\n",
       "7. 'datasets'\n",
       "8. 'methods'\n",
       "9. 'base'\n",
       "\n",
       "\n",
       "\n",
       "\n",
       "\n"
      ],
      "text/plain": [
       "[[1]]\n",
       "[1] \"GillespieSSA2\" \"snow\"          \"stats\"         \"graphics\"     \n",
       "[5] \"grDevices\"     \"utils\"         \"datasets\"      \"methods\"      \n",
       "[9] \"base\"         \n",
       "\n",
       "[[2]]\n",
       "[1] \"GillespieSSA2\" \"snow\"          \"stats\"         \"graphics\"     \n",
       "[5] \"grDevices\"     \"utils\"         \"datasets\"      \"methods\"      \n",
       "[9] \"base\"         \n",
       "\n",
       "[[3]]\n",
       "[1] \"GillespieSSA2\" \"snow\"          \"stats\"         \"graphics\"     \n",
       "[5] \"grDevices\"     \"utils\"         \"datasets\"      \"methods\"      \n",
       "[9] \"base\"         \n",
       "\n",
       "[[4]]\n",
       "[1] \"GillespieSSA2\" \"snow\"          \"stats\"         \"graphics\"     \n",
       "[5] \"grDevices\"     \"utils\"         \"datasets\"      \"methods\"      \n",
       "[9] \"base\"         \n",
       "\n",
       "[[5]]\n",
       "[1] \"GillespieSSA2\" \"snow\"          \"stats\"         \"graphics\"     \n",
       "[5] \"grDevices\"     \"utils\"         \"datasets\"      \"methods\"      \n",
       "[9] \"base\"         \n",
       "\n",
       "[[6]]\n",
       "[1] \"GillespieSSA2\" \"snow\"          \"stats\"         \"graphics\"     \n",
       "[5] \"grDevices\"     \"utils\"         \"datasets\"      \"methods\"      \n",
       "[9] \"base\"         \n",
       "\n",
       "[[7]]\n",
       "[1] \"GillespieSSA2\" \"snow\"          \"stats\"         \"graphics\"     \n",
       "[5] \"grDevices\"     \"utils\"         \"datasets\"      \"methods\"      \n",
       "[9] \"base\"         \n",
       "\n",
       "[[8]]\n",
       "[1] \"GillespieSSA2\" \"snow\"          \"stats\"         \"graphics\"     \n",
       "[5] \"grDevices\"     \"utils\"         \"datasets\"      \"methods\"      \n",
       "[9] \"base\"         \n",
       "\n",
       "[[9]]\n",
       "[1] \"GillespieSSA2\" \"snow\"          \"stats\"         \"graphics\"     \n",
       "[5] \"grDevices\"     \"utils\"         \"datasets\"      \"methods\"      \n",
       "[9] \"base\"         \n",
       "\n",
       "[[10]]\n",
       "[1] \"GillespieSSA2\" \"snow\"          \"stats\"         \"graphics\"     \n",
       "[5] \"grDevices\"     \"utils\"         \"datasets\"      \"methods\"      \n",
       "[9] \"base\"         \n"
      ]
     },
     "metadata": {},
     "output_type": "display_data"
    },
    {
     "name": "stdout",
     "output_type": "stream",
     "text": [
      "\r",
      "  |                                                                            \r",
      "  |                                                                      |   0%"
     ]
    }
   ],
   "source": [
    "num_cores = 10 # num. of cores to use\n",
    "nboot <- 1000 # num. of cells to simulate\n",
    "cl <- makeCluster(num_cores) # create clusters\n",
    "registerDoSNOW(cl) # register clusters\n",
    "# clusterEvalQ(cl, .libPaths(\"/home/atheistpoet/R/x86_64-pc-linux-gnu-library/4.0\"))\n",
    "clusterCall(cl, function() {\n",
    "    lib.path <- \"/home/atheistpoet/R/x86_64-pc-linux-gnu-library/4.0\" # R library path\n",
    "    .libPaths(lib.path) \n",
    "    library(GillespieSSA2)\n",
    "})\n",
    "pb <- txtProgressBar(max = nboot, style = 3) # to display progress bars for parallel computation\n",
    "progress <- function(n) setTxtProgressBar(pb, n) # to display progress bars for parallel computation\n",
    "opts <- list(progress = progress) # to display progress bars for parallel computation"
   ]
  },
  {
   "cell_type": "markdown",
   "metadata": {},
   "source": [
    "## List to store all the plots for Fig. 1C"
   ]
  },
  {
   "cell_type": "code",
   "execution_count": 3,
   "metadata": {},
   "outputs": [],
   "source": [
    "plot.list <- list()"
   ]
  },
  {
   "cell_type": "markdown",
   "metadata": {},
   "source": [
    "## Simulations for the untreated case"
   ]
  },
  {
   "cell_type": "markdown",
   "metadata": {},
   "source": [
    "### Setup simulation parameters and initial state"
   ]
  },
  {
   "cell_type": "code",
   "execution_count": 4,
   "metadata": {},
   "outputs": [],
   "source": [
    "# reaction rates (k_on, k_off, k_m, gamma_m, k_p, gamma_p)\n",
    "rxn_rates = c(0.000208333, 0.002083333, 0.208333333, 0.000115525, 0.032346868, 7.70164E-05) \n",
    "\n",
    "params <- c(kon = rxn_rates[1], koff = rxn_rates[2], km = rxn_rates[3], \n",
    "                   gamma_m = rxn_rates[4], kp = rxn_rates[5], gamma_p = rxn_rates[6])\n",
    "\n",
    "# initial state vector\n",
    "initial_state <- c(Gon = 1, Goff = 0,  \n",
    "            M = floor((rxn_rates[1] * rxn_rates[3])/\n",
    "                      ((rxn_rates[1] + rxn_rates[2]) * rxn_rates[4])), \n",
    "            P = floor((rxn_rates[5])/rxn_rates[6])*\n",
    "              floor((rxn_rates[1] * rxn_rates[3])/\n",
    "                      ((rxn_rates[1] + rxn_rates[2]) * rxn_rates[4])))\n",
    "\n",
    "# reactions in the system\n",
    "reactions <- list(reaction(~kon * Goff, c(Goff = -1, Gon = +1), \"promoter_on\"),  \n",
    "                  reaction(~koff * Gon, c(Goff = +1, Gon = -1), \"promoter_off\"), \n",
    "                  reaction(~km * Gon, c(M = +1), \"transcription\"), \n",
    "                  reaction(~gamma_m * M, c(M = -1), \"mRNA_degradation\"), \n",
    "                  reaction(~kp * M, c(P = +1), \"translation\"), \n",
    "                  reaction(~gamma_p * P, c(P = -1), \"protein_degradation\"))\n",
    "\n",
    "# num. of hours of simulation to use as burn-in\n",
    "skip_hours <- 10"
   ]
  },
  {
   "cell_type": "markdown",
   "metadata": {},
   "source": [
    "### Run simulation using Gillespie's Direct Method (DM)"
   ]
  },
  {
   "cell_type": "code",
   "execution_count": 5,
   "metadata": {},
   "outputs": [
    {
     "name": "stdout",
     "output_type": "stream",
     "text": [
      "  |======================================================================| 100%"
     ]
    }
   ],
   "source": [
    "out.control <- foreach( b = 1:nboot, .options.snow = opts )%dopar%{\n",
    "  set.seed(b)\n",
    "#   library(doParallel)\n",
    "#   library(GillespieSSA2)\n",
    "  out <-\n",
    "    ssa(\n",
    "      initial_state = initial_state,\n",
    "      reactions = reactions,\n",
    "      params = params,\n",
    "      method = ssa_exact(),\n",
    "      final_time = (20 + skip_hours) * 60 * 60,\n",
    "      census_interval = 10,\n",
    "      verbose = TRUE\n",
    "    )\n",
    "  return(list(time = out$time, Protein = out$state[, 4], promoter = out$state[, 1]))\n",
    "}\n",
    "save(out.control, file = \"time_series_untreated_Fig1C.RData\")"
   ]
  },
  {
   "cell_type": "markdown",
   "metadata": {},
   "source": [
    "### Extract single-cell protein counts at the end of the simulation. Take all single-cell data from all time points; assume that the process is ergodic."
   ]
  },
  {
   "cell_type": "code",
   "execution_count": 6,
   "metadata": {},
   "outputs": [],
   "source": [
    "steady_state <- rep(0, nboot)\n",
    "for( i in 1:nboot ){\n",
    "  steady_state[i] <- out.control[[i]]$Protein[length(out.control[[i]]$Protein)]\n",
    "}\n",
    "mean_val <- mean(steady_state) # steady-state mean for the untreated control"
   ]
  },
  {
   "cell_type": "markdown",
   "metadata": {},
   "source": [
    "### Plot for single-cell trajectories protein count for untreated"
   ]
  },
  {
   "cell_type": "code",
   "execution_count": 52,
   "metadata": {},
   "outputs": [
    {
     "name": "stderr",
     "output_type": "stream",
     "text": [
      "Scale for 'y' is already present. Adding another scale for 'y', which will\n",
      "replace the existing scale.\n",
      "\n"
     ]
    }
   ],
   "source": [
    "col <- \"gray20\" # color for the single-cell time trajectories\n",
    "skip_hours <- 10\n",
    "# Plot gray region showing threshold region for active HIV replication\n",
    "dat.polygon <- data.frame(x = c(0, 20, 20, 0), \n",
    "                          y = c(3, 3, 4.5, 4.5))\n",
    "p <- ggplot()\n",
    "p <- p + geom_polygon(aes(x = x, y = y), data = dat.polygon, fill = \"gray\", \n",
    "                      col = \"white\", alpha = 0.5) + \n",
    "  geom_text(data = data.frame(x = 10, y = 3.7, label = \"Active \\n replication\"), \n",
    "            mapping = aes(x = x, y = y, label = label), color = \"black\", size = 5)\n",
    "\n",
    "#Add all the time trajectors to the plot\n",
    "id.sample <- 1:nboot\n",
    "for( b in id.sample ){\n",
    "  id <- which(out.control[[b]]$time >= skip_hours * 60 * 60)\n",
    "  dat.plot <- data.frame(x = out.control[[b]]$time[id]/(60 * 60) - \n",
    "                           min(out.control[[1]]$time[id]/(60 * 60)), \n",
    "                         y = out.control[[b]]$Protein[id]/10^5)\n",
    "  p <- p + geom_line(data = dat.plot, mapping = aes(x = x, y = y), color = col, \n",
    "                     linetype = 1, size = 0.3)\n",
    "}\n",
    "\n",
    "# Add horizontal line for the mean value\n",
    "p <- p + geom_hline(yintercept = mean_val/10^5, color = \"gray\", linetype = 2, \n",
    "                    size = 1.3)\n",
    "\n",
    "# Write 'Mean' above the mean horizontal line\n",
    "p <- p + \n",
    "geom_text(data = data.frame(x = 10, y = 1, label = \"Mean\"), \n",
    "            mapping = aes(x = x, y = y, label = label), color = \"white\", size = 5)\n",
    "\n",
    "# Remove white space between the plot and the axes\n",
    "p <- p + ylim(c(0, 4.5)) + \n",
    "  scale_x_continuous(limits = c(0,20), expand = c(0, 0)) +\n",
    "  scale_y_continuous(limits = c(0,4.5), expand = c(0, 0))\n",
    "\n",
    "# Add axes labels\n",
    "p <- p + xlab(\"Time (hrs)\") + ylab(expression(atop(\"Gene product\", \n",
    "                                   \"(molecules\" %*% \"10\"^\"5\"*\")\")))\n",
    "\n",
    "# Adjust font sizes for the title and the axes\n",
    "p <- p + \n",
    "  theme(plot.title = element_text(size = 16, color = \"black\", face=\"bold.italic\"), \n",
    "        axis.title.x = element_text(size = 14, colour = \"black\", face = \"bold\"), \n",
    "        axis.title.y = element_text(size = 14, colour = \"black\", face = \"bold\"), \n",
    "        axis.text.x = element_text(size = 13, colour = \"black\"), \n",
    "        axis.text.y = element_text(size = 13, colour = \"black\"), \n",
    "        panel.background = element_blank(), \n",
    "        axis.line.y = element_line(color = \"black\"), axis.line.x = element_line(color = \"black\"),\n",
    "        panel.grid.major = element_blank(), panel.grid.minor = element_blank())\n",
    "p.control.time <- p +  ggtitle(\"Untreated\")"
   ]
  },
  {
   "cell_type": "markdown",
   "metadata": {},
   "source": [
    "### Histogram for protein count at the end of simulation"
   ]
  },
  {
   "cell_type": "code",
   "execution_count": 53,
   "metadata": {},
   "outputs": [
    {
     "name": "stderr",
     "output_type": "stream",
     "text": [
      "Scale for 'x' is already present. Adding another scale for 'x', which will\n",
      "replace the existing scale.\n",
      "\n"
     ]
    }
   ],
   "source": [
    "# y-axis limit\n",
    "ymax <- 80\n",
    "ymid <- 40\n",
    "\n",
    "# Draw a gray region which defines region of active HIV replication\n",
    "dat.polygon <- data.frame(y = c(0, ymax, ymax, 0), \n",
    "                          x = c(3, 3, 4.5, 4.5))\n",
    "p <- ggplot() + geom_polygon(aes(x = x, y = y), data = dat.polygon, fill = \"gray\", \n",
    "                      col = \"white\", alpha = 0.5)\n",
    "\n",
    "# Save single-cell protein count data at the end of simulation in a data frame\n",
    "dat.plot <- data.frame(x = steady_state/10^5)\n",
    "\n",
    "# Plot histogram\n",
    "p <- p + \n",
    "  geom_histogram(data = dat.plot, mapping = aes(x = x),\n",
    "                 color=\"black\", fill=\"black\", bins = 100) + coord_flip()\n",
    "\n",
    "# Remove white space between the plot and the axes\n",
    "p <- p + xlim(c(0, 4.5)) + \n",
    "  scale_x_continuous(limits = c(0,4.5), expand = c(0, 0)) + \n",
    "  scale_y_continuous(limits = c(0,ymax), expand = c(0, 0))\n",
    "\n",
    "# Remove background and axes text\n",
    "p <- p + \n",
    "  theme(axis.title.x = element_blank(), \n",
    "        axis.title.y = element_blank(),\n",
    "        axis.text.x = element_blank(),\n",
    "        axis.text.y = element_blank(), \n",
    "        axis.ticks.x = element_blank(), \n",
    "        axis.ticks.y = element_blank(), \n",
    "        panel.background = element_blank(), axis.line.y = element_line(), \n",
    "        panel.grid.major = element_blank(), panel.grid.minor = element_blank())\n",
    "\n",
    "# Add horizontal line for the mean value\n",
    "p <- p + geom_vline(xintercept = mean(steady_state)/10^5, color = \"gray\", linetype = 2, \n",
    "                    size = 1.3)\n",
    "\n",
    "# Visually explain the concept of noise\n",
    "p <- p + geom_segment(aes(x = 0, y = ymid, \n",
    "                          xend = 0.3, yend = ymid),\n",
    "                      arrow = arrow(length = unit(0.3, \"cm\")), size = 0.7)\n",
    "p <- p + geom_segment(aes(x = 1.3, y = ymax/2, \n",
    "                          xend = 1, yend = ymid),\n",
    "                      arrow = arrow(length = unit(0.3, \"cm\")), size = 0.7) + \n",
    "  geom_text(data = data.frame(x = 1.5, y = ymid, label = \"Noise\"), \n",
    "            mapping = aes(x = x, y = y, label = label), color = \"black\", size = 5)\n",
    "p.control.hist <- p"
   ]
  },
  {
   "cell_type": "markdown",
   "metadata": {},
   "source": [
    "### Representative plot of promoter activity"
   ]
  },
  {
   "cell_type": "code",
   "execution_count": 54,
   "metadata": {},
   "outputs": [
    {
     "data": {
      "text/plain": [
       "<ScaleContinuousPosition>\n",
       " Range:  \n",
       " Limits:    0 --   20"
      ]
     },
     "metadata": {},
     "output_type": "display_data"
    },
    {
     "data": {
      "image/png": "[encoded data removed]",
      "text/plain": [
       "plot without title"
      ]
     },
     "metadata": {
      "image/png": {
       "height": 420,
       "width": 420
      }
     },
     "output_type": "display_data"
    }
   ],
   "source": [
    "col <- \"gray20\"\n",
    "params = c(kon = 1/(5*3600), koff = 1/(2*3600))\n",
    "on_frac = (params['kon'])/(params['kon'] + params['koff'])\n",
    "on_time <- 1/(params['kon'] + params['koff'])\n",
    "time_diff <- 1/(params['kon'])\n",
    "num_bursts <- floor((20*3600)/time_diff)\n",
    "burst_times <- 3600 + (1:num_bursts - 1)*(1/(params['kon']))\n",
    "time_list <- seq(0, 20*3600, by = 1)\n",
    "promoter <- rep(0, 20*3600 + 1)\n",
    "for( b in 1:num_bursts ){\n",
    "    id.begin <- which(time_list >= burst_times[b])\n",
    "    id.end <- which(time_list <= burst_times[b] + on_time)\n",
    "    if( length(id.end) != 0 ){\n",
    "        promoter[id.begin[1]:id.end[length(id.end)]] <- 1\n",
    "    }else{\n",
    "        promoter[id.begin[1]:(20*3600 + 1)] <- 1\n",
    "    }\n",
    "    \n",
    "}\n",
    "dat.plot <- data.frame(x = time_list/3600, \n",
    "                        y = promoter)\n",
    "p <- ggline(dat.plot, x = \"x\", y = \"y\", \n",
    "            numeric.x.axis = T, \n",
    "            linetype = \"solid\",\n",
    "            plot_type = c(\"l\"),\n",
    "            fill = col,           \n",
    "            color = col,\n",
    "            sort.by.groups = FALSE,\n",
    "            x.text.angle = 0,\n",
    "            ylab = expression(atop(\"Promoter\", \n",
    "                                   \"activity\")),\n",
    "            xlab = \"Time\",\n",
    "            # legend = \"bottom\",\n",
    "            legend.title = \"\",\n",
    "            y.text.angle = 0,\n",
    "            rotate = F,\n",
    "            font.x = 14, \n",
    "            font.y = 14,\n",
    "            font.tickslab = 13,\n",
    "            size = 0.3,\n",
    "            point.size = 0.1,\n",
    "            # font.label = 14,\n",
    "            theme = theme_pubr()\n",
    ")\n",
    "# Add horizontal line for the mean value\n",
    "p <- p + geom_hline(yintercept = 1, color = \"gray\", linetype = 2, \n",
    "                    size = 0.5)\n",
    "\n",
    "p <- p  + \n",
    "  geom_text(data = data.frame(x = 20, y = 0.9, label = \"ON\"), \n",
    "            mapping = aes(x = x, y = y, label = label), color = \"black\", size = 3) + \n",
    "geom_text(data = data.frame(x = 20, y = 0.1, label = \"OFF\"), \n",
    "            mapping = aes(x = x, y = y, label = label), color = \"black\", size = 3)\n",
    "\n",
    "# Remove white space between the plot and the axes\n",
    "p <- p + xlim(c(0, 20.5))\n",
    "  scale_x_continuous(limits = c(0,20), expand = c(0, 0))\n",
    "\n",
    "# Adjust font sizes for the title and the axes\n",
    "p <- p + \n",
    "  theme(plot.title = element_text(size = 15, color = \"black\", face=\"bold.italic\"), \n",
    "        axis.title.x = element_text(size = 13, colour = \"black\", face = \"bold\"), \n",
    "        axis.title.y = element_text(size = 13, colour = \"black\", face = \"bold\"), \n",
    "        axis.text.x = element_blank(),\n",
    "        axis.text.y = element_blank(), \n",
    "        axis.ticks.x = element_blank(), \n",
    "        axis.ticks.y = element_blank())\n",
    "p.control.promoter <- p\n",
    "print(p)"
   ]
  },
  {
   "cell_type": "markdown",
   "metadata": {},
   "source": [
    "### Combine plots"
   ]
  },
  {
   "cell_type": "code",
   "execution_count": null,
   "metadata": {},
   "outputs": [],
   "source": [
    "first.row <- plot_grid(p.control.time, p.control.hist, ncol = 2, \n",
    "                    labels = \"\", align = \"h\", rel_widths = c(1.6, 1))\n",
    "second.row <- plot_grid(p.control.promoter, NULL, ncol = 2, labels = \"\", align = \"h\", \n",
    "                       rel_widths = c(1.6, 1))\n",
    "plot.control <- plot_grid(first.row, second.row, nrow = 2, rel_heights = c(2.5, 1))\n",
    "save_plot(\"Plot_untreated.png\", plot.control, base_height = 4, base_width = 6)\n",
    "# print(plot.control)\n",
    "plot.list[[1]] <- plot.control"
   ]
  },
  {
   "cell_type": "markdown",
   "metadata": {},
   "source": [
    "## Simulations for noise enhancer"
   ]
  },
  {
   "cell_type": "markdown",
   "metadata": {},
   "source": [
    "### Setup simulation parameters and initial state"
   ]
  },
  {
   "cell_type": "code",
   "execution_count": 73,
   "metadata": {},
   "outputs": [],
   "source": [
    "# reaction rates (k_on, k_off, k_m, gamma_m, k_p, gamma_p)\n",
    "rxn_rates = c(0.000104167, 0.001041667, 0.208333333, 0.000115525, 0.032346868, 7.70164E-05) \n",
    "\n",
    "params <- c(kon = rxn_rates[1], koff = rxn_rates[2], km = rxn_rates[3], \n",
    "                   gamma_m = rxn_rates[4], kp = rxn_rates[5], gamma_p = rxn_rates[6])\n",
    "\n",
    "# initial state vector\n",
    "# initial_state <- c(Gon = 1, Goff = 0,  \n",
    "#             M = floor((rxn_rates[1] * rxn_rates[3])/\n",
    "#                       ((rxn_rates[1] + rxn_rates[2]) * rxn_rates[4])), \n",
    "#             P = floor((rxn_rates[5])/rxn_rates[6])*\n",
    "#               floor((rxn_rates[1] * rxn_rates[3])/\n",
    "#                       ((rxn_rates[1] + rxn_rates[2]) * rxn_rates[4])))\n",
    "\n",
    "# reactions in the system\n",
    "reactions <- list(reaction(~kon * Goff, c(Goff = -1, Gon = +1), \"promoter_on\"),  \n",
    "                  reaction(~koff * Gon, c(Goff = +1, Gon = -1), \"promoter_off\"), \n",
    "                  reaction(~km * Gon, c(M = +1), \"transcription\"), \n",
    "                  reaction(~gamma_m * M, c(M = -1), \"mRNA_degradation\"), \n",
    "                  reaction(~kp * M, c(P = +1), \"translation\"), \n",
    "                  reaction(~gamma_p * P, c(P = -1), \"protein_degradation\"))\n",
    "\n",
    "# num. of hours of simulation to use as burn-in\n",
    "skip_hours <- 0"
   ]
  },
  {
   "cell_type": "markdown",
   "metadata": {},
   "source": [
    "### Run simulation using Gillespie's Direct Method (DM)"
   ]
  },
  {
   "cell_type": "code",
   "execution_count": 13,
   "metadata": {},
   "outputs": [
    {
     "name": "stdout",
     "output_type": "stream",
     "text": [
      "  |======================================================================| 100%"
     ]
    }
   ],
   "source": [
    "out.NE <- foreach( b = 1:nboot, .options.snow = opts )%dopar%{\n",
    "  set.seed(b)\n",
    "  library(doParallel)\n",
    "  library(GillespieSSA2)\n",
    "  initial_state <- c(Gon = 1, Goff = 0,  \n",
    "            M = floor((rxn_rates[1] * rxn_rates[3])/\n",
    "                      ((rxn_rates[1] + rxn_rates[2]) * rxn_rates[4])), \n",
    "            P = out.control[[b]]$Protein[length(out.control[[b]]$Protein)])  \n",
    "    \n",
    "  out <-\n",
    "    ssa(\n",
    "      initial_state = initial_state,\n",
    "      reactions = reactions,\n",
    "      params = params,\n",
    "      method = ssa_exact(),\n",
    "      final_time = (20 + skip_hours) * 60 * 60,\n",
    "      census_interval = 10,\n",
    "      verbose = TRUE\n",
    "    )\n",
    "  return(list(time = out$time, Protein = out$state[, 4]))\n",
    "}\n",
    "save(out.NE, file = \"time_series_noise_enhancer_Fig1C.RData\")"
   ]
  },
  {
   "cell_type": "markdown",
   "metadata": {},
   "source": [
    "### Extract single-cell protein counts at the end of the simulation. Take all single-cell data from all time points; assume that the process is ergodic."
   ]
  },
  {
   "cell_type": "code",
   "execution_count": 74,
   "metadata": {},
   "outputs": [],
   "source": [
    "steady_state <- rep(0, nboot)\n",
    "for( i in 1:nboot ){\n",
    "  steady_state[i] <- out.NE[[i]]$Protein[length(out.NE[[i]]$Protein)]\n",
    "}"
   ]
  },
  {
   "cell_type": "markdown",
   "metadata": {},
   "source": [
    "### Plot for single-cell trajectories protein count"
   ]
  },
  {
   "cell_type": "code",
   "execution_count": 75,
   "metadata": {},
   "outputs": [
    {
     "name": "stderr",
     "output_type": "stream",
     "text": [
      "Scale for 'y' is already present. Adding another scale for 'y', which will\n",
      "replace the existing scale.\n",
      "\n"
     ]
    }
   ],
   "source": [
    "col <- \"purple\" # color for the single-cell time trajectories\n",
    "skip_hours <- 0\n",
    "# Plot gray region showing threshold region for active HIV replication\n",
    "dat.polygon <- data.frame(x = c(0, 20, 20, 0), \n",
    "                          y = c(3, 3, 4.5, 4.5))\n",
    "p <- ggplot()\n",
    "p <- p + geom_polygon(aes(x = x, y = y), data = dat.polygon, fill = \"gray\", \n",
    "                      col = \"white\", alpha = 0.5) \n",
    "# + \n",
    "#   geom_text(data = data.frame(x = 10, y = 4, label = \"Active \\n replication\"), \n",
    "#             mapping = aes(x = x, y = y, label = label), color = \"white\", size = 5)\n",
    "\n",
    "#Add all the time trajectors to the plot\n",
    "id.sample <- 1:nboot\n",
    "for( b in id.sample ){\n",
    "  id <- which(out.NE[[b]]$time >= skip_hours * 60 * 60)\n",
    "  dat.plot <- data.frame(x = out.NE[[b]]$time[id]/(60 * 60) - \n",
    "                           min(out.NE[[1]]$time[id]/(60 * 60)), \n",
    "                         y = out.NE[[b]]$Protein[id]/10^5)\n",
    "  p <- p + geom_line(data = dat.plot, mapping = aes(x = x, y = y), color = col, \n",
    "                     linetype = 1, size = 0.3)\n",
    "}\n",
    "\n",
    "# Add horizontal line for the mean value\n",
    "p <- p + geom_hline(yintercept = mean_val/10^5, color = \"gray\", linetype = 2, \n",
    "                    size = 1.3)\n",
    "\n",
    "# Write 'Mean' above the mean horizontal line\n",
    "p <- p + \n",
    "geom_text(data = data.frame(x = 10, y = 1, label = \"Mean\"), \n",
    "            mapping = aes(x = x, y = y, label = label), color = \"white\", size = 5)\n",
    "\n",
    "# Remove white space between the plot and the axes\n",
    "p <- p + ylim(c(0, 4.5)) + \n",
    "  scale_x_continuous(limits = c(0,20), expand = c(0, 0)) +\n",
    "  scale_y_continuous(limits = c(0,4.5), expand = c(0, 0))\n",
    "\n",
    "# Add axes labels\n",
    "p <- p + xlab(\"Time (hrs)\") + ylab(expression(atop(\"Gene product\", \n",
    "                                   \"(molecules\" %*% \"10\"^\"5\"*\")\")))\n",
    "\n",
    "# Adjust font sizes for the title and the axes\n",
    "p <- p + \n",
    "  theme(plot.title = element_text(size = 16, color = \"black\", face=\"bold.italic\"), \n",
    "        axis.title.x = element_text(size = 14, colour = \"black\", face = \"bold\"), \n",
    "        axis.title.y = element_text(size = 14, colour = \"black\", face = \"bold\"), \n",
    "        axis.text.x = element_text(size = 13, colour = \"black\"), \n",
    "        axis.text.y = element_text(size = 13, colour = \"black\"), \n",
    "        panel.background = element_blank(),\n",
    "        axis.line.y = element_line(color = \"black\"), axis.line.x = element_line(color = \"black\"),\n",
    "        panel.grid.major = element_blank(), panel.grid.minor = element_blank())\n",
    "p.NE.time <- p +  ggtitle(\"Noise enhancer\")"
   ]
  },
  {
   "cell_type": "markdown",
   "metadata": {},
   "source": [
    "### Histogram for protein count at the end of simulation"
   ]
  },
  {
   "cell_type": "code",
   "execution_count": 76,
   "metadata": {},
   "outputs": [
    {
     "name": "stderr",
     "output_type": "stream",
     "text": [
      "Scale for 'x' is already present. Adding another scale for 'x', which will\n",
      "replace the existing scale.\n",
      "\n"
     ]
    }
   ],
   "source": [
    "# y-axis limit\n",
    "col <- \"purple\"\n",
    "ymax <- 100\n",
    "ymid <- 40\n",
    "\n",
    "# Draw a gray region which defines region of active HIV replication\n",
    "dat.polygon <- data.frame(y = c(0, ymax, ymax, 0), \n",
    "                          x = c(3, 3, 4.5, 4.5))\n",
    "p <- ggplot() + geom_polygon(aes(x = x, y = y), data = dat.polygon, fill = \"gray\", \n",
    "                      col = \"white\", alpha = 0.5)\n",
    "\n",
    "# Save single-cell protein count data at the end of simulation in a data frame\n",
    "dat.plot <- data.frame(x = steady_state/10^5)\n",
    "\n",
    "# Plot histogram\n",
    "p <- p + \n",
    "  geom_histogram(data = dat.plot, mapping = aes(x=x), color=col, fill=col, bins = 50) + coord_flip()\n",
    "\n",
    "# Remove white space between the plot and the axes\n",
    "p <- p + xlim(c(0, 4.5)) + \n",
    "  scale_x_continuous(limits = c(0,4.5), expand = c(0, 0)) + \n",
    "  scale_y_continuous(limits = c(0,ymax), expand = c(0, 0))\n",
    "\n",
    "# Remove background and axes text\n",
    "p <- p + \n",
    "  theme(axis.title.x = element_blank(), \n",
    "        axis.title.y = element_blank(),\n",
    "        axis.text.x = element_blank(),\n",
    "        axis.text.y = element_blank(), \n",
    "        axis.ticks.x = element_blank(), \n",
    "        axis.ticks.y = element_blank(), \n",
    "        panel.background = element_blank(), axis.line.y = element_line(), \n",
    "        panel.grid.major = element_blank(), panel.grid.minor = element_blank())\n",
    "\n",
    "# Add horizontal line for the mean value\n",
    "p <- p + geom_vline(xintercept = mean_val/10^5, color = \"gray\", linetype = 2, \n",
    "                    size = 1.3)\n",
    "\n",
    "\n",
    "\n",
    "# Visually explain the concept of noise\n",
    "# p <- p + geom_segment(aes(x = 0, y = ymid, \n",
    "#                           xend = 0.3, yend = ymid),\n",
    "#                       arrow = arrow(length = unit(0.3, \"cm\")), size = 0.7)\n",
    "# p <- p + geom_segment(aes(x = 1.3, y = ymid, \n",
    "#                           xend = 1, yend = ymid),\n",
    "#                       arrow = arrow(length = unit(0.3, \"cm\")), size = 0.7) + \n",
    "#   geom_text(data = data.frame(x = 1.5, y = ymid, label = \"Noise\"), \n",
    "#             mapping = aes(x = x, y = y, label = label), color = \"black\", size = 5)\n",
    "p.NE.hist <- p"
   ]
  },
  {
   "cell_type": "markdown",
   "metadata": {},
   "source": [
    "### Representative plot of promoter activity"
   ]
  },
  {
   "cell_type": "code",
   "execution_count": 78,
   "metadata": {},
   "outputs": [
    {
     "data": {
      "text/plain": [
       "<ScaleContinuousPosition>\n",
       " Range:  \n",
       " Limits:    0 --   20"
      ]
     },
     "metadata": {},
     "output_type": "display_data"
    },
    {
     "data": {
      "image/png": "[encoded data removed]",
      "text/plain": [
       "plot without title"
      ]
     },
     "metadata": {
      "image/png": {
       "height": 420,
       "width": 420
      }
     },
     "output_type": "display_data"
    }
   ],
   "source": [
    "col <- \"purple\"\n",
    "params = c(kon = 0.5/(5*3600), koff = 0.5/(2*3600))\n",
    "on_frac = (params['kon'])/(params['kon'] + params['koff'])\n",
    "on_time <- 1/(params['kon'] + params['koff'])\n",
    "time_diff <- 1/(params['kon'])\n",
    "num_bursts <- floor((20*3600)/time_diff)\n",
    "burst_times <- 3600 + (1:num_bursts - 1)*(1/(params['kon']))\n",
    "time_list <- seq(0, 20*3600, by = 1)\n",
    "promoter <- rep(0, 20*3600 + 1)\n",
    "for( b in 1:num_bursts ){\n",
    "    id.begin <- which(time_list >= burst_times[b])\n",
    "    id.end <- which(time_list <= burst_times[b] + on_time)\n",
    "    if( length(id.end) != 0 ){\n",
    "        promoter[id.begin[1]:id.end[length(id.end)]] <- 1\n",
    "    }else{\n",
    "        promoter[id.begin[1]:(20*3600 + 1)] <- 1\n",
    "    }\n",
    "    \n",
    "}\n",
    "dat.plot <- data.frame(x = time_list/3600, \n",
    "                        y = promoter)\n",
    "p <- ggline(dat.plot, x = \"x\", y = \"y\", \n",
    "            numeric.x.axis = T, \n",
    "            linetype = \"solid\",\n",
    "            plot_type = c(\"l\"),\n",
    "            fill = col,           \n",
    "            color = col,\n",
    "            sort.by.groups = FALSE,\n",
    "            x.text.angle = 0,\n",
    "            ylab = expression(atop(\"Promoter\", \n",
    "                                   \"activity\")),\n",
    "            xlab = \"Time\",\n",
    "            # legend = \"bottom\",\n",
    "            legend.title = \"\",\n",
    "            y.text.angle = 0,\n",
    "            rotate = F,\n",
    "            font.x = 14, \n",
    "            font.y = 14,\n",
    "            font.tickslab = 13,\n",
    "            size = 0.3,\n",
    "            point.size = 0.1,\n",
    "            # font.label = 14,\n",
    "            theme = theme_pubr()\n",
    ")\n",
    "# Add horizontal line for the mean value\n",
    "p <- p + geom_hline(yintercept = 1, color = \"gray\", linetype = 2, \n",
    "                    size = 0.5)\n",
    "\n",
    "p <- p  + \n",
    "  geom_text(data = data.frame(x = 20, y = 0.9, label = \"ON\"), \n",
    "            mapping = aes(x = x, y = y, label = label), color = \"black\", size = 3) + \n",
    "geom_text(data = data.frame(x = 20, y = 0.1, label = \"OFF\"), \n",
    "            mapping = aes(x = x, y = y, label = label), color = \"black\", size = 3)\n",
    "\n",
    "# Remove white space between the plot and the axes\n",
    "p <- p + xlim(c(0, 20.5))\n",
    "  scale_x_continuous(limits = c(0,20), expand = c(0, 0))\n",
    "\n",
    "# Adjust font sizes for the title and the axes\n",
    "p <- p + \n",
    "  theme(plot.title = element_text(size = 15, color = \"black\", face=\"bold.italic\"), \n",
    "        axis.title.x = element_text(size = 13, colour = \"black\", face = \"bold\"), \n",
    "        axis.title.y = element_text(size = 13, colour = \"black\", face = \"bold\"), \n",
    "        axis.text.x = element_blank(),\n",
    "        axis.text.y = element_blank(), \n",
    "        axis.ticks.x = element_blank(), \n",
    "        axis.ticks.y = element_blank())\n",
    "p.NE.promoter <- p\n",
    "# print(p)"
   ]
  },
  {
   "cell_type": "markdown",
   "metadata": {},
   "source": [
    "### Combine Plots"
   ]
  },
  {
   "cell_type": "code",
   "execution_count": null,
   "metadata": {},
   "outputs": [],
   "source": [
    "first.row <- plot_grid(p.NE.time, p.NE.hist, ncol = 2, \n",
    "                    labels = \"\", align = \"h\", rel_widths = c(1.6, 1))\n",
    "second.row <- plot_grid(p.NE.promoter, NULL, ncol = 2, labels = \"\", align = \"h\", \n",
    "                       rel_widths = c(1.6, 1))\n",
    "plot.NE <- plot_grid(first.row, second.row, nrow = 2, rel_heights = c(2.5, 1))\n",
    "save_plot(\"Plot_NE.png\", plot.NE, base_height = 4, base_width = 6)\n",
    "# print(plot.NE)\n",
    "plot.list[[2]] <- plot.NE"
   ]
  },
  {
   "cell_type": "markdown",
   "metadata": {},
   "source": [
    "## Simulations for activator"
   ]
  },
  {
   "cell_type": "markdown",
   "metadata": {},
   "source": [
    "### Setup simulation parameters and initial state"
   ]
  },
  {
   "cell_type": "code",
   "execution_count": 80,
   "metadata": {},
   "outputs": [],
   "source": [
    "# reaction rates (k_on, k_off, k_m, gamma_m, k_p, gamma_p)\n",
    "rxn_rates = c(0.000625, 0.002083, 0.208333333, 0.000115525, 0.032346868, 7.70164E-05) \n",
    "\n",
    "params <- c(kon = rxn_rates[1], koff = rxn_rates[2], km = rxn_rates[3], \n",
    "                   gamma_m = rxn_rates[4], kp = rxn_rates[5], gamma_p = rxn_rates[6])\n",
    "\n",
    "# initial state vector\n",
    "# initial_state <- c(Gon = 1, Goff = 0,  \n",
    "#             M = floor((rxn_rates[1] * rxn_rates[3])/\n",
    "#                       ((rxn_rates[1] + rxn_rates[2]) * rxn_rates[4])), \n",
    "#             P = floor((rxn_rates[5])/rxn_rates[6])*\n",
    "#               floor((rxn_rates[1] * rxn_rates[3])/\n",
    "#                       ((rxn_rates[1] + rxn_rates[2]) * rxn_rates[4])))\n",
    "\n",
    "# reactions in the system\n",
    "reactions <- list(reaction(~kon * Goff, c(Goff = -1, Gon = +1), \"promoter_on\"),  \n",
    "                  reaction(~koff * Gon, c(Goff = +1, Gon = -1), \"promoter_off\"), \n",
    "                  reaction(~km * Gon, c(M = +1), \"transcription\"), \n",
    "                  reaction(~gamma_m * M, c(M = -1), \"mRNA_degradation\"), \n",
    "                  reaction(~kp * M, c(P = +1), \"translation\"), \n",
    "                  reaction(~gamma_p * P, c(P = -1), \"protein_degradation\"))\n",
    "\n",
    "# num. of hours of simulation to use as burn-in\n",
    "skip_hours <- 0"
   ]
  },
  {
   "cell_type": "markdown",
   "metadata": {},
   "source": [
    "### Run simulation using Gillespie's Direct Method (DM)"
   ]
  },
  {
   "cell_type": "code",
   "execution_count": 19,
   "metadata": {},
   "outputs": [
    {
     "name": "stdout",
     "output_type": "stream",
     "text": [
      "  |======================================================================| 100%"
     ]
    }
   ],
   "source": [
    "out.Ac <- foreach( b = 1:nboot, .options.snow = opts )%dopar%{\n",
    "  set.seed(b)\n",
    "  library(doParallel)\n",
    "  library(GillespieSSA2)\n",
    "  initial_state <- c(Gon = 1, Goff = 0,  \n",
    "            M = floor((rxn_rates[1] * rxn_rates[3])/\n",
    "                      ((rxn_rates[1] + rxn_rates[2]) * rxn_rates[4])), \n",
    "            P = out.control[[b]]$Protein[length(out.control[[b]]$Protein)])    \n",
    "  out <-\n",
    "    ssa(\n",
    "      initial_state = initial_state,\n",
    "      reactions = reactions,\n",
    "      params = params,\n",
    "      method = ssa_exact(),\n",
    "      final_time = (20 + skip_hours) * 60 * 60,\n",
    "      census_interval = 10,\n",
    "      verbose = TRUE\n",
    "    )\n",
    "  return(list(time = out$time, Protein = out$state[, 4]))\n",
    "}\n",
    "save(out.Ac, file = \"time_series_activator_Fig1C.RData\")"
   ]
  },
  {
   "cell_type": "markdown",
   "metadata": {},
   "source": [
    "### Extract single-cell protein counts at the end of the simulation. Take all single-cell data from all time points; assume that the process is ergodic."
   ]
  },
  {
   "cell_type": "code",
   "execution_count": 84,
   "metadata": {},
   "outputs": [],
   "source": [
    "steady_state <- rep(0, nboot)\n",
    "for( i in 1:nboot ){\n",
    "  steady_state[i] <- out.Ac[[i]]$Protein[length(out.Ac[[i]]$Protein)]\n",
    "}"
   ]
  },
  {
   "cell_type": "markdown",
   "metadata": {},
   "source": [
    "### Plot for single-cell trajectories protein count"
   ]
  },
  {
   "cell_type": "code",
   "execution_count": 85,
   "metadata": {},
   "outputs": [
    {
     "name": "stderr",
     "output_type": "stream",
     "text": [
      "Scale for 'y' is already present. Adding another scale for 'y', which will\n",
      "replace the existing scale.\n",
      "\n"
     ]
    }
   ],
   "source": [
    "col <- \"blue\" # color for the single-cell time trajectories\n",
    "\n",
    "# Plot gray region showing threshold region for active HIV replication\n",
    "dat.polygon <- data.frame(x = c(0, 20, 20, 0), \n",
    "                          y = c(3, 3, 4.5, 4.5))\n",
    "p <- ggplot()\n",
    "p <- p + geom_polygon(aes(x = x, y = y), data = dat.polygon, fill = \"gray\", \n",
    "                      col = \"white\", alpha = 0.5) \n",
    "# + \n",
    "#   geom_text(data = data.frame(x = 10, y = 4, label = \"Active \\n replication\"), \n",
    "#             mapping = aes(x = x, y = y, label = label), color = \"white\", size = 5)\n",
    "\n",
    "#Add all the time trajectors to the plot\n",
    "id.sample <- 1:nboot\n",
    "for( b in id.sample ){\n",
    "  id <- which(out.Ac[[b]]$time >= skip_hours * 60 * 60)\n",
    "  dat.plot <- data.frame(x = out.Ac[[b]]$time[id]/(60 * 60) - \n",
    "                           min(out.Ac[[1]]$time[id]/(60 * 60)), \n",
    "                         y = out.Ac[[b]]$Protein[id]/10^5)\n",
    "  p <- p + geom_line(data = dat.plot, mapping = aes(x = x, y = y), color = col, \n",
    "                     linetype = 1, size = 0.3)\n",
    "}\n",
    "\n",
    "# Add horizontal line for the mean value\n",
    "p <- p + geom_hline(yintercept = mean_val/10^5, color = \"gray\", linetype = 2, \n",
    "                    size = 1.3)\n",
    "\n",
    "# Write 'Mean' above the mean horizontal line\n",
    "# p <- p + \n",
    "# geom_text(data = data.frame(x = 10, y = 1, label = \"Mean\"), \n",
    "#             mapping = aes(x = x, y = y, label = label), color = \"white\", size = 5)\n",
    "\n",
    "# Remove white space between the plot and the axes\n",
    "p <- p + ylim(c(0, 4.5)) + \n",
    "  scale_x_continuous(limits = c(0,20), expand = c(0, 0)) +\n",
    "  scale_y_continuous(limits = c(0,4.5), expand = c(0, 0))\n",
    "\n",
    "# Add axes labels\n",
    "p <- p + xlab(\"Time (hrs)\") + ylab(expression(atop(\"Gene product\", \n",
    "                                   \"(molecules\" %*% \"10\"^\"5\"*\")\")))\n",
    "\n",
    "# Adjust font sizes for the title and the axes\n",
    "p <- p + \n",
    "  theme(plot.title = element_text(size = 16, color = \"black\", face=\"bold.italic\"), \n",
    "        axis.title.x = element_text(size = 14, colour = \"black\", face = \"bold\"), \n",
    "        axis.title.y = element_text(size = 14, colour = \"black\", face = \"bold\"), \n",
    "        axis.text.x = element_text(size = 13, colour = \"black\"), \n",
    "        axis.text.y = element_text(size = 13, colour = \"black\"), \n",
    "        panel.background = element_blank(),\n",
    "        axis.line.y = element_line(color = \"black\"), axis.line.x = element_line(color = \"black\"),\n",
    "        panel.grid.major = element_blank(), panel.grid.minor = element_blank())\n",
    "p.Ac.time <- p +  ggtitle(\"Activator\")"
   ]
  },
  {
   "cell_type": "markdown",
   "metadata": {},
   "source": [
    "### Histogram for protein count at the end of simulation"
   ]
  },
  {
   "cell_type": "code",
   "execution_count": 86,
   "metadata": {},
   "outputs": [
    {
     "name": "stderr",
     "output_type": "stream",
     "text": [
      "Scale for 'x' is already present. Adding another scale for 'x', which will\n",
      "replace the existing scale.\n",
      "\n"
     ]
    }
   ],
   "source": [
    "# y-axis limit\n",
    "col <- \"blue\"\n",
    "ymax <- 90\n",
    "ymid <- 40\n",
    "\n",
    "# Draw a gray region which defines region of active HIV replication\n",
    "dat.polygon <- data.frame(y = c(0, ymax, ymax, 0), \n",
    "                          x = c(3, 3, 4.5, 4.5))\n",
    "p <- ggplot() + geom_polygon(aes(x = x, y = y), data = dat.polygon, fill = \"gray\", \n",
    "                      col = \"white\", alpha = 0.5)\n",
    "\n",
    "# Save single-cell protein count data at the end of simulation in a data frame\n",
    "dat.plot <- data.frame(x = steady_state/10^5)\n",
    "\n",
    "# Plot histogram\n",
    "p <- p + \n",
    "  geom_histogram(data = dat.plot, mapping = aes(x = x), \n",
    "                 color=col, fill=col, bins = 50) + coord_flip()\n",
    "\n",
    "# Remove white space between the plot and the axes\n",
    "p <- p + xlim(c(0, 4.5)) + \n",
    "  scale_x_continuous(limits = c(0,4.5), expand = c(0, 0)) + \n",
    "  scale_y_continuous(limits = c(0,ymax), expand = c(0, 0))\n",
    "\n",
    "# Remove background and axes text\n",
    "p <- p + \n",
    "  theme(axis.title.x = element_blank(), \n",
    "        axis.title.y = element_blank(),\n",
    "        axis.text.x = element_blank(),\n",
    "        axis.text.y = element_blank(), \n",
    "        axis.ticks.x = element_blank(), \n",
    "        axis.ticks.y = element_blank(), \n",
    "        panel.background = element_blank(), axis.line.y = element_line(), \n",
    "        panel.grid.major = element_blank(), panel.grid.minor = element_blank())\n",
    "\n",
    "# Add horizontal line for the mean value\n",
    "p <- p + geom_vline(xintercept = mean_val/10^5, color = \"gray\", linetype = 2, \n",
    "                    size = 1.3)\n",
    "\n",
    "\n",
    "# Visually explain the concept of noise\n",
    "# p <- p + geom_segment(aes(x = 0, y = ymid, \n",
    "#                           xend = 0.3, yend = ymid),\n",
    "#                       arrow = arrow(length = unit(0.3, \"cm\")), size = 0.7)\n",
    "# p <- p + geom_segment(aes(x = 1.3, y = ymid, \n",
    "#                           xend = 1, yend = ymid),\n",
    "#                       arrow = arrow(length = unit(0.3, \"cm\")), size = 0.7) + \n",
    "#   geom_text(data = data.frame(x = 1.5, y = ymid, label = \"Noise\"), \n",
    "#             mapping = aes(x = x, y = y, label = label), color = \"black\", size = 5)\n",
    "p.Ac.hist <- p"
   ]
  },
  {
   "cell_type": "markdown",
   "metadata": {},
   "source": [
    "### Representative plot of promoter activity"
   ]
  },
  {
   "cell_type": "code",
   "execution_count": 88,
   "metadata": {},
   "outputs": [
    {
     "data": {
      "text/plain": [
       "<ScaleContinuousPosition>\n",
       " Range:  \n",
       " Limits:    0 --   21"
      ]
     },
     "metadata": {},
     "output_type": "display_data"
    },
    {
     "data": {
      "image/png": "[encoded data removed]",
      "text/plain": [
       "plot without title"
      ]
     },
     "metadata": {
      "image/png": {
       "height": 420,
       "width": 420
      }
     },
     "output_type": "display_data"
    }
   ],
   "source": [
    "col <- \"blue\"\n",
    "params = c(kon = 3/(5*3600), koff = 1/(2*3600))\n",
    "on_time <- 1/(params['kon'] + params['koff'])\n",
    "time_diff <- 1/(params['kon'])\n",
    "num_bursts <- floor((20*3600)/time_diff)\n",
    "burst_times <- 3600 + (1:num_bursts - 1)*(1/(params['kon']))\n",
    "time_list <- seq(0, 20*3600, by = 1)\n",
    "promoter <- rep(0, 20*3600 + 1)\n",
    "for( b in 1:num_bursts ){\n",
    "    id.begin <- which(time_list >= burst_times[b])\n",
    "    id.end <- which(time_list <= burst_times[b] + on_time)\n",
    "    if( length(id.end) != 0 ){\n",
    "        promoter[id.begin[1]:id.end[length(id.end)]] <- 1\n",
    "    }else{\n",
    "        promoter[id.begin[1]:(20*3600 + 1)] <- 1\n",
    "    }\n",
    "    \n",
    "}\n",
    "dat.plot <- data.frame(x = time_list/3600, \n",
    "                        y = promoter)\n",
    "p <- ggline(dat.plot, x = \"x\", y = \"y\", \n",
    "            numeric.x.axis = T, \n",
    "            linetype = \"solid\",\n",
    "            plot_type = c(\"l\"),\n",
    "            fill = col,           \n",
    "            color = col,\n",
    "            sort.by.groups = FALSE,\n",
    "            x.text.angle = 0,\n",
    "            ylab = expression(atop(\"Promoter\", \n",
    "                                   \"activity\")),\n",
    "            xlab = \"Time\",\n",
    "            # legend = \"bottom\",\n",
    "            legend.title = \"\",\n",
    "            y.text.angle = 0,\n",
    "            rotate = F,\n",
    "            font.x = 14, \n",
    "            font.y = 14,\n",
    "            font.tickslab = 13,\n",
    "            size = 0.3,\n",
    "            point.size = 0.1,\n",
    "            # font.label = 14,\n",
    "            theme = theme_pubr()\n",
    ")\n",
    "# Add horizontal line for the mean value\n",
    "p <- p + geom_hline(yintercept = 1, color = \"gray\", linetype = 2, \n",
    "                    size = 0.5)\n",
    "\n",
    "p <- p  + \n",
    "  geom_text(data = data.frame(x = 21, y = 0.9, label = \"ON\"), \n",
    "            mapping = aes(x = x, y = y, label = label), color = \"black\", size = 3) + \n",
    "geom_text(data = data.frame(x = 21, y = 0.1, label = \"OFF\"), \n",
    "            mapping = aes(x = x, y = y, label = label), color = \"black\", size = 3)\n",
    "\n",
    "# Remove white space between the plot and the axes\n",
    "p <- p + xlim(c(0, 21))\n",
    "  scale_x_continuous(limits = c(0,21), expand = c(0, 0))\n",
    "\n",
    "# Adjust font sizes for the title and the axes\n",
    "p <- p + \n",
    "  theme(plot.title = element_text(size = 15, color = \"black\", face=\"bold.italic\"), \n",
    "        axis.title.x = element_text(size = 13, colour = \"black\", face = \"bold\"), \n",
    "        axis.title.y = element_text(size = 13, colour = \"black\", face = \"bold\"), \n",
    "        axis.text.x = element_blank(),\n",
    "        axis.text.y = element_blank(), \n",
    "        axis.ticks.x = element_blank(), \n",
    "        axis.ticks.y = element_blank())\n",
    "p.Ac.promoter <- p\n",
    "print(p)"
   ]
  },
  {
   "cell_type": "markdown",
   "metadata": {},
   "source": [
    "### Combine plots"
   ]
  },
  {
   "cell_type": "code",
   "execution_count": null,
   "metadata": {},
   "outputs": [],
   "source": [
    "first.row <- plot_grid(p.Ac.time, p.Ac.hist, ncol = 2, \n",
    "                    labels = \"\", align = \"h\", rel_widths = c(1.6, 1))\n",
    "second.row <- plot_grid(p.Ac.promoter, NULL, ncol = 2, labels = \"\", align = \"h\", \n",
    "                       rel_widths = c(1.6, 1))\n",
    "plot.Ac <- plot_grid(first.row, second.row, nrow = 2, rel_heights = c(2.5, 1))\n",
    "save_plot(\"Plot_Ac.png\", plot.Ac, base_height = 4, base_width = 6)\n",
    "# print(plot.Ac)\n",
    "plot.list[[3]] <- plot.Ac"
   ]
  },
  {
   "cell_type": "markdown",
   "metadata": {},
   "source": [
    "## Simulations for activator + enhancer"
   ]
  },
  {
   "cell_type": "markdown",
   "metadata": {},
   "source": [
    "### Setup simulation parameters and initial state"
   ]
  },
  {
   "cell_type": "code",
   "execution_count": 90,
   "metadata": {},
   "outputs": [],
   "source": [
    "# reaction rates (k_on, k_off, k_m, gamma_m, k_p, gamma_p)\n",
    "rxn_rates = c(0.000625, 0.001041667, 0.208333333, 0.000115525, 0.032346868, 7.70164E-05) \n",
    "\n",
    "params <- c(kon = rxn_rates[1], koff = rxn_rates[2], km = rxn_rates[3], \n",
    "                   gamma_m = rxn_rates[4], kp = rxn_rates[5], gamma_p = rxn_rates[6])\n",
    "\n",
    "# initial state vector\n",
    "# initial_state <- c(Gon = 1, Goff = 0,  \n",
    "#             M = floor((rxn_rates[1] * rxn_rates[3])/\n",
    "#                       ((rxn_rates[1] + rxn_rates[2]) * rxn_rates[4])), \n",
    "#             P = floor((rxn_rates[5])/rxn_rates[6])*\n",
    "#               floor((rxn_rates[1] * rxn_rates[3])/\n",
    "#                       ((rxn_rates[1] + rxn_rates[2]) * rxn_rates[4])))\n",
    "\n",
    "# reactions in the system\n",
    "reactions <- list(reaction(~kon * Goff, c(Goff = -1, Gon = +1), \"promoter_on\"),  \n",
    "                  reaction(~koff * Gon, c(Goff = +1, Gon = -1), \"promoter_off\"), \n",
    "                  reaction(~km * Gon, c(M = +1), \"transcription\"), \n",
    "                  reaction(~gamma_m * M, c(M = -1), \"mRNA_degradation\"), \n",
    "                  reaction(~kp * M, c(P = +1), \"translation\"), \n",
    "                  reaction(~gamma_p * P, c(P = -1), \"protein_degradation\"))\n",
    "\n",
    "# num. of hours of simulation to use as burn-in\n",
    "skip_hours <- 0"
   ]
  },
  {
   "cell_type": "markdown",
   "metadata": {},
   "source": [
    "### Run simulation using Gillespie's Direct Method (DM)"
   ]
  },
  {
   "cell_type": "code",
   "execution_count": 25,
   "metadata": {},
   "outputs": [
    {
     "name": "stdout",
     "output_type": "stream",
     "text": [
      "  |======================================================================| 100%"
     ]
    }
   ],
   "source": [
    "out.Ac_NE <- foreach( b = 1:nboot, .options.snow = opts )%dopar%{\n",
    "  set.seed(b)\n",
    "  library(doParallel)\n",
    "  library(GillespieSSA2)\n",
    "  initial_state <- c(Gon = 1, Goff = 0,  \n",
    "            M = floor((rxn_rates[1] * rxn_rates[3])/\n",
    "                      ((rxn_rates[1] + rxn_rates[2]) * rxn_rates[4])), \n",
    "            P = out.NE[[b]]$Protein[length(out.NE[[b]]$Protein)])    \n",
    "  out <-\n",
    "    ssa(\n",
    "      initial_state = initial_state,\n",
    "      reactions = reactions,\n",
    "      params = params,\n",
    "      method = ssa_exact(),\n",
    "      final_time = (20 + skip_hours) * 60 * 60,\n",
    "      census_interval = 10,\n",
    "      verbose = TRUE\n",
    "    )\n",
    "  return(list(time = out$time, Protein = out$state[, 4]))\n",
    "}\n",
    "save(out.Ac_NE, file = \"time_series_activator_noise_enhancer_Fig1C.RData\")"
   ]
  },
  {
   "cell_type": "markdown",
   "metadata": {},
   "source": [
    "### Extract single-cell protein counts at the end of the simulation. Take all single-cell data from all time points; assume that the process is ergodic."
   ]
  },
  {
   "cell_type": "code",
   "execution_count": 91,
   "metadata": {},
   "outputs": [],
   "source": [
    "steady_state <- rep(0, nboot)\n",
    "for( i in 1:nboot ){\n",
    "  steady_state[i] <- out.Ac_NE[[i]]$Protein[length(out.Ac_NE[[i]]$Protein)]\n",
    "}"
   ]
  },
  {
   "cell_type": "markdown",
   "metadata": {},
   "source": [
    "### Plot for single-cell trajectories protein count"
   ]
  },
  {
   "cell_type": "code",
   "execution_count": 92,
   "metadata": {},
   "outputs": [
    {
     "name": "stderr",
     "output_type": "stream",
     "text": [
      "Scale for 'y' is already present. Adding another scale for 'y', which will\n",
      "replace the existing scale.\n",
      "\n"
     ]
    }
   ],
   "source": [
    "col <- \"red\" # color for the single-cell time trajectories\n",
    "\n",
    "# Plot gray region showing threshold region for active HIV replication\n",
    "dat.polygon <- data.frame(x = c(0, 20, 20, 0), \n",
    "                          y = c(3, 3, 4.5, 4.5))\n",
    "p <- ggplot()\n",
    "p <- p + geom_polygon(aes(x = x, y = y), data = dat.polygon, fill = \"gray\", \n",
    "                      col = \"white\", alpha = 0.5) \n",
    "# + \n",
    "#   geom_text(data = data.frame(x = 10, y = 4, label = \"Active \\n replication\"), \n",
    "#             mapping = aes(x = x, y = y, label = label), color = \"white\", size = 5)\n",
    "\n",
    "#Add all the time trajectors to the plot\n",
    "id.sample <- 1:nboot\n",
    "for( b in id.sample ){\n",
    "  id <- which(out.Ac_NE[[b]]$time >= skip_hours * 60 * 60)\n",
    "  dat.plot <- data.frame(x = out.Ac_NE[[b]]$time[id]/(60 * 60) - \n",
    "                           min(out.Ac_NE[[1]]$time[id]/(60 * 60)), \n",
    "                         y = out.Ac_NE[[b]]$Protein[id]/10^5)\n",
    "  p <- p + geom_line(data = dat.plot, mapping = aes(x = x, y = y), color = col, \n",
    "                     linetype = 1, size = 0.3)\n",
    "}\n",
    "\n",
    "# Add horizontal line for the mean value\n",
    "p <- p + geom_hline(yintercept = mean_val/10^5, color = \"gray\", linetype = 2, \n",
    "                    size = 1.3)\n",
    "\n",
    "# Write 'Mean' above the mean horizontal line\n",
    "# p <- p + \n",
    "# geom_text(data = data.frame(x = 10, y = 1, label = \"Mean\"), \n",
    "#             mapping = aes(x = x, y = y, label = label), color = \"white\", size = 5)\n",
    "\n",
    "# Remove white space between the plot and the axes\n",
    "p <- p + ylim(c(0, 4.5)) + \n",
    "  scale_x_continuous(limits = c(0,20), expand = c(0, 0)) +\n",
    "  scale_y_continuous(limits = c(0,4.5), expand = c(0, 0))\n",
    "\n",
    "# Add axes labels\n",
    "p <- p + xlab(\"Time (hrs)\") + ylab(expression(atop(\"Gene product\", \n",
    "                                   \"(molecules\" %*% \"10\"^\"5\"*\")\")))\n",
    "\n",
    "# Adjust font sizes for the title and the axes\n",
    "p <- p + \n",
    "  theme(plot.title = element_text(size = 16, color = \"black\", face=\"bold.italic\"), \n",
    "        axis.title.x = element_text(size = 14, colour = \"black\", face = \"bold\"), \n",
    "        axis.title.y = element_text(size = 14, colour = \"black\", face = \"bold\"), \n",
    "        axis.text.x = element_text(size = 13, colour = \"black\"), \n",
    "        axis.text.y = element_text(size = 13, colour = \"black\"), \n",
    "        panel.background = element_blank(),\n",
    "        axis.line.y = element_line(color = \"black\"), axis.line.x = element_line(color = \"black\"),\n",
    "        panel.grid.major = element_blank(), panel.grid.minor = element_blank())\n",
    "p.Ac_NE.time <- p +  ggtitle(\"Activator + noise enhancer\")"
   ]
  },
  {
   "cell_type": "markdown",
   "metadata": {},
   "source": [
    "### Histogram for protein count at the end of simulation"
   ]
  },
  {
   "cell_type": "code",
   "execution_count": 93,
   "metadata": {},
   "outputs": [
    {
     "name": "stderr",
     "output_type": "stream",
     "text": [
      "Scale for 'x' is already present. Adding another scale for 'x', which will\n",
      "replace the existing scale.\n",
      "\n"
     ]
    }
   ],
   "source": [
    "# y-axis limit\n",
    "ymax <- 70\n",
    "ymid <- 40\n",
    "\n",
    "# Draw a gray region which defines region of active HIV replication\n",
    "dat.polygon <- data.frame(y = c(0, ymax, ymax, 0), \n",
    "                          x = c(3, 3, 4.5, 4.5))\n",
    "p <- ggplot() + geom_polygon(aes(x = x, y = y), data = dat.polygon, fill = \"gray\", \n",
    "                      col = \"white\", alpha = 0.5)\n",
    "\n",
    "# Save single-cell protein count data at the end of simulation in a data frame\n",
    "dat.plot <- data.frame(x = steady_state/10^5)\n",
    "\n",
    "# Plot histogram\n",
    "p <- p + \n",
    "  geom_histogram(data = dat.plot, mapping = aes(x = x), \n",
    "                 color=col, fill=col, bins = 50) + coord_flip()\n",
    "\n",
    "# Remove white space between the plot and the axes\n",
    "p <- p + xlim(c(0, 4.5)) + \n",
    "  scale_x_continuous(limits = c(0,4.5), expand = c(0, 0)) + \n",
    "  scale_y_continuous(limits = c(0,ymax), expand = c(0, 0))\n",
    "\n",
    "# Remove background and axes text\n",
    "p <- p + \n",
    "  theme(axis.title.x = element_blank(), \n",
    "        axis.title.y = element_blank(),\n",
    "        axis.text.x = element_blank(),\n",
    "        axis.text.y = element_blank(), \n",
    "        axis.ticks.x = element_blank(), \n",
    "        axis.ticks.y = element_blank(), \n",
    "        panel.background = element_blank(), axis.line.y = element_line(), \n",
    "        panel.grid.major = element_blank(), panel.grid.minor = element_blank())\n",
    "\n",
    "# Add horizontal line for the mean value\n",
    "p <- p + geom_vline(xintercept = mean_val/10^5, color = \"gray\", linetype = 2, \n",
    "                    size = 1.3)\n",
    "\n",
    "\n",
    "# Visually explain the concept of noise\n",
    "# p <- p + geom_segment(aes(x = 0, y = ymid, \n",
    "#                           xend = 0.3, yend = ymid),\n",
    "#                       arrow = arrow(length = unit(0.3, \"cm\")), size = 0.7)\n",
    "# p <- p + geom_segment(aes(x = 1.3, y = ymid, \n",
    "#                           xend = 1, yend = ymid),\n",
    "#                       arrow = arrow(length = unit(0.3, \"cm\")), size = 0.7) + \n",
    "#   geom_text(data = data.frame(x = 1.5, y = ymid, label = \"Noise\"), \n",
    "#             mapping = aes(x = x, y = y, label = label), color = \"black\", size = 5)\n",
    "p.Ac_NE.hist <- p"
   ]
  },
  {
   "cell_type": "markdown",
   "metadata": {},
   "source": [
    "### Representative plot of promoter activity"
   ]
  },
  {
   "cell_type": "code",
   "execution_count": 95,
   "metadata": {},
   "outputs": [
    {
     "data": {
      "text/plain": [
       "<ScaleContinuousPosition>\n",
       " Range:  \n",
       " Limits:    0 --   20"
      ]
     },
     "metadata": {},
     "output_type": "display_data"
    },
    {
     "data": {
      "image/png": "[encoded data removed]",
      "text/plain": [
       "plot without title"
      ]
     },
     "metadata": {
      "image/png": {
       "height": 420,
       "width": 420
      }
     },
     "output_type": "display_data"
    }
   ],
   "source": [
    "col <- \"red\"\n",
    "params = c(kon = 3/(5*3600), koff = 0.5/(4*3600))\n",
    "on_frac = (params['kon'])/(params['kon'] + params['koff'])\n",
    "on_time <- 1/(params['kon'] + params['koff'])\n",
    "time_diff <- 1/(params['kon'])\n",
    "num_bursts <- floor((20*3600)/time_diff)\n",
    "burst_times <- 3600 + (1:num_bursts - 1)*(1/(params['kon']))\n",
    "time_list <- seq(0, 20*3600, by = 1)\n",
    "promoter <- rep(0, 20*3600 + 1)\n",
    "for( b in 1:num_bursts ){\n",
    "    id.begin <- which(time_list >= burst_times[b])\n",
    "    id.end <- which(time_list <= burst_times[b] + on_time)\n",
    "    if( length(id.end) != 0 ){\n",
    "        promoter[id.begin[1]:id.end[length(id.end)]] <- 1\n",
    "    }else{\n",
    "        promoter[id.begin[1]:(20*3600 + 1)] <- 1\n",
    "    }\n",
    "    \n",
    "}\n",
    "dat.plot <- data.frame(x = time_list/3600, \n",
    "                        y = promoter)\n",
    "p <- ggline(dat.plot, x = \"x\", y = \"y\", \n",
    "            numeric.x.axis = T, \n",
    "            linetype = \"solid\",\n",
    "            plot_type = c(\"l\"),\n",
    "            fill = col,           \n",
    "            color = col,\n",
    "            sort.by.groups = FALSE,\n",
    "            x.text.angle = 0,\n",
    "            ylab = expression(atop(\"Promoter\", \n",
    "                                   \"activity\")),\n",
    "            xlab = \"Time\",\n",
    "            # legend = \"bottom\",\n",
    "            legend.title = \"\",\n",
    "            y.text.angle = 0,\n",
    "            rotate = F,\n",
    "            font.x = 14, \n",
    "            font.y = 14,\n",
    "            font.tickslab = 13,\n",
    "            size = 0.3,\n",
    "            point.size = 0.1,\n",
    "            # font.label = 14,\n",
    "            theme = theme_pubr()\n",
    ")\n",
    "# Add horizontal line for the mean value\n",
    "p <- p + geom_hline(yintercept = 1, color = \"gray\", linetype = 2, \n",
    "                    size = 0.5)\n",
    "\n",
    "p <- p  + \n",
    "  geom_text(data = data.frame(x = 20, y = 0.9, label = \"ON\"), \n",
    "            mapping = aes(x = x, y = y, label = label), color = \"black\", size = 3) + \n",
    "geom_text(data = data.frame(x = 20, y = 0.1, label = \"OFF\"), \n",
    "            mapping = aes(x = x, y = y, label = label), color = \"black\", size = 3)\n",
    "\n",
    "# Remove white space between the plot and the axes\n",
    "p <- p + xlim(c(0, 20.5))\n",
    "  scale_x_continuous(limits = c(0,20), expand = c(0, 0))\n",
    "\n",
    "# Adjust font sizes for the title and the axes\n",
    "p <- p + \n",
    "  theme(plot.title = element_text(size = 15, color = \"black\", face=\"bold.italic\"), \n",
    "        axis.title.x = element_text(size = 13, colour = \"black\", face = \"bold\"), \n",
    "        axis.title.y = element_text(size = 13, colour = \"black\", face = \"bold\"), \n",
    "        axis.text.x = element_blank(),\n",
    "        axis.text.y = element_blank(), \n",
    "        axis.ticks.x = element_blank(), \n",
    "        axis.ticks.y = element_blank())\n",
    "p.Ac_NE.promoter <- p\n",
    "print(p)"
   ]
  },
  {
   "cell_type": "markdown",
   "metadata": {},
   "source": [
    "### Combine plots"
   ]
  },
  {
   "cell_type": "code",
   "execution_count": null,
   "metadata": {},
   "outputs": [],
   "source": [
    "first.row <- plot_grid(p.Ac_NE.time, p.Ac_NE.hist, ncol = 2, \n",
    "                    labels = \"\", align = \"h\", rel_widths = c(1.6, 1))\n",
    "second.row <- plot_grid(p.Ac_NE.promoter, NULL, ncol = 2, labels = \"\", align = \"h\", \n",
    "                       rel_widths = c(1.6, 1))\n",
    "plot.Ac_NE <- plot_grid(first.row, second.row, nrow = 2, rel_heights = c(2.5, 1))\n",
    "save_plot(\"Plot_Ac_NE.png\", plot.Ac_NE, base_height = 4, base_width = 6)\n",
    "# print(plot.Ac_NE)\n",
    "plot.list[[4]] <- plot.Ac_NE"
   ]
  },
  {
   "cell_type": "markdown",
   "metadata": {},
   "source": [
    "### Make composite Fig. 1C"
   ]
  },
  {
   "cell_type": "code",
   "execution_count": 97,
   "metadata": {},
   "outputs": [],
   "source": [
    "plot.full <- plot_grid(plot.list[[1]], plot.list[[2]], plot.list[[3]], plot.list[[4]], nrow = 2, \n",
    "                      labels = NULL)\n",
    "save_plot(\"Plot_Fig_1C.png\", plot.full, base_height = 8, base_width = 12)"
   ]
  },
  {
   "cell_type": "markdown",
   "metadata": {},
   "source": [
    "## Close Parallel Cluster"
   ]
  },
  {
   "cell_type": "code",
   "execution_count": null,
   "metadata": {},
   "outputs": [],
   "source": [
    "close(pb)\n",
    "stopCluster(cl)"
   ]
  },
  {
   "cell_type": "markdown",
   "metadata": {},
   "source": [
    "# Fig. 1D--Heatmap in the noise-vs-mean space for varying burst size and burst frequency over a 2D grid. Simulations done for burst frequency modulation with burst size fixed. Burst size modulated by changing $k_m$"
   ]
  },
  {
   "cell_type": "code",
   "execution_count": 3,
   "metadata": {},
   "outputs": [],
   "source": [
    "# Factors by which burst frequency changes\n",
    "a_vec = c(1/(seq(10, 2, by = -2)), 1, seq(2, 10, by = 2))\n",
    "\n",
    "# burst size values\n",
    "burst_size <- c(1, 10, 50, 100, 500, 1000, 5000)"
   ]
  },
  {
   "cell_type": "code",
   "execution_count": 4,
   "metadata": {},
   "outputs": [],
   "source": [
    "# reactions in the system\n",
    "reactions <- list(reaction(~kon * Goff, c(Goff = -1, Gon = +1), \"promoter_on\"),  \n",
    "                  reaction(~koff * Gon, c(Goff = +1, Gon = -1), \"promoter_off\"), \n",
    "                  reaction(~km * Gon, c(M = +1), \"transcription\"), \n",
    "                  reaction(~gamma_m * M, c(M = -1), \"mRNA_degradation\"), \n",
    "                  reaction(~kp * M, c(P = +1), \"translation\"), \n",
    "                  reaction(~gamma_p * P, c(P = -1), \"protein_degradation\"))\n",
    "\n",
    "# num. of hours of simulation to use as burn-in\n",
    "skip_hours <- 0"
   ]
  },
  {
   "cell_type": "markdown",
   "metadata": {},
   "source": [
    "### Run simulations for varying burst frequency and fixed burst size"
   ]
  },
  {
   "cell_type": "code",
   "execution_count": null,
   "metadata": {},
   "outputs": [],
   "source": [
    "# reaction rates for untreated (k_on, k_off, k_m, gamma_m, k_p, gamma_p)\n",
    "rxn_rates_init = c(0.000208333, 0.002083333, 0.208333333, 0.000115525, 0.032346868, 7.70164E-05)\n",
    "\n",
    "for( i in 1:length(burst_size) ){\n",
    "    for( cl.id in 1:4 ){\n",
    "        id.begin <- 1 + (cl.id - 1)*3\n",
    "        if( cl.id < 4 ){\n",
    "            id.end <- (id.begin + 2)\n",
    "        }else{\n",
    "            id.end <- (id.begin + 1)\n",
    "        }\n",
    "        ## Create cluster\n",
    "        num_cores = 10 # num. of cores to use\n",
    "        nboot <- 1000 # num. of cells to simulate\n",
    "        cl <- makeCluster(num_cores) # create clusters\n",
    "        registerDoSNOW(cl) # register clusters\n",
    "        # clusterEvalQ(cl, .libPaths(\"/home/atheistpoet/R/x86_64-pc-linux-gnu-library/4.0\"))\n",
    "        clusterCall(cl, function() {\n",
    "            lib.paths <- \"/home/atheistpoet/R/x86_64-pc-linux-gnu-library/4.0\" # R library path\n",
    "            .libPaths(lib.paths)\n",
    "            library(GillespieSSA2)\n",
    "        })\n",
    "        pb <- txtProgressBar(max = nboot, style = 3) # to display progress bars for parallel computation\n",
    "        progress <- function(n) setTxtProgressBar(pb, n) # to display progress bars for parallel computation\n",
    "        opts <- list(progress = progress) # to display progress bars for parallel computation\n",
    "        ## Create cluster\n",
    "        for( j in id.begin:id.end ){\n",
    "            message(\"i = \", i, \" j = \", j)\n",
    "            # Setup simulation parameters and initial state\n",
    "            rxn_rates = rxn_rates_init\n",
    "            rxn_rates[1] = rxn_rates[1] * a_vec[j]\n",
    "            rxn_rates[3] = rxn_rates[2]*burst_size[i]\n",
    "\n",
    "            params <- c(kon = rxn_rates[1], koff = rxn_rates[2], km = rxn_rates[3], \n",
    "                               gamma_m = rxn_rates[4], kp = rxn_rates[5], gamma_p = rxn_rates[6])\n",
    "\n",
    "            # initial state vector\n",
    "            initial_state <- c(Gon = 1, Goff = 0,  \n",
    "                        M = floor((rxn_rates[1] * rxn_rates[3])/\n",
    "                                  ((rxn_rates[1] + rxn_rates[2]) * rxn_rates[4])), \n",
    "                        P = floor((rxn_rates[5])/rxn_rates[6])*\n",
    "                          floor((rxn_rates[1] * rxn_rates[3])/\n",
    "                                  ((rxn_rates[1] + rxn_rates[2]) * rxn_rates[4])))\n",
    "\n",
    "            out.sim.heatmap <- foreach( b = 1:nboot, .options.snow = opts )%dopar%{\n",
    "              set.seed(b)\n",
    "              out <-\n",
    "                ssa(\n",
    "                  initial_state = initial_state,\n",
    "                  reactions = reactions,\n",
    "                  params = params,\n",
    "                  method = ssa_exact(),\n",
    "                  final_time = (20 + skip_hours) * 60 * 60,\n",
    "                  census_interval = 10,\n",
    "                  verbose = TRUE\n",
    "                )\n",
    "    #           detach(\"package:GillespieSSA2\", unload=TRUE)\n",
    "              return(list(time = out$time, Protein = out$state[, 4], promoter = out$state[, 1]))\n",
    "            }\n",
    "            save(out.sim.heatmap, file = paste(\"burst_size_fixed_k_m/time_trajectory_single_cell_kon_factor_idx_\", j, \n",
    "                                              \"_burst_size_idx_\", i, \".RData\", sep = \"\"))\n",
    "        }\n",
    "        ## End cluster\n",
    "        close(pb)\n",
    "        stopCluster(cl)\n",
    "        ## End cluster\n",
    "    }\n",
    "\n",
    "}\n",
    "\n"
   ]
  },
  {
   "cell_type": "markdown",
   "metadata": {},
   "source": [
    "### Read simulation data"
   ]
  },
  {
   "cell_type": "code",
   "execution_count": null,
   "metadata": {},
   "outputs": [],
   "source": [
    "mat_perc_cells2 <- matrix(0, length(burst_size), length(a_vec)) # matrix for %cells crossing \n",
    "                                                                                   # threshold\n",
    "mean_mat <- noise_mat <- matrix(0, length(burst_size), length(a_vec)) # matrix to store mean and noise values\n",
    "burst_size_lim <- length(burst_size)\n",
    "for( i in 1:burst_size_lim ){\n",
    "  message(\"burst size loop = \", i)\n",
    "  for( j in 1:length(a_vec) ){\n",
    "      # load the time series data\n",
    "      load(paste(\"burst_size_fixed_k_m/time_trajectory_single_cell_kon_factor_idx_\", j, \n",
    "               \"_burst_size_idx_\", i, \".RData\", sep = \"\"))\n",
    "      \n",
    "    rxn_rates = rxn_rates_init\n",
    "    rxn_rates[1] = rxn_rates[1] * a_vec[j]\n",
    "    rxn_rates[3] = rxn_rates[2]*burst_size[i]\n",
    "     \n",
    "#     Analytical mean  \n",
    "#     mean_mat[i, j] = ((rxn_rates[5])/rxn_rates[6])*\n",
    "#       ((rxn_rates[1] * rxn_rates[3])/((rxn_rates[2] + rxn_rates[1]) * rxn_rates[4]))\n",
    "    count1 <- count2 <- 0\n",
    "    P_count <- rep(0, nboot)\n",
    "    for( b in 1:nboot ){\n",
    "      id <- which(out.sim.heatmap[[b]]$Protein > 3*10^5 )\n",
    "      if( length(id) > 0 ){\n",
    "        count2 <- count2 + 1\n",
    "      }\n",
    "      P_count[b] <- out.sim.heatmap[[b]]$Protein[length(out.sim.heatmap[[b]]$Protein)]\n",
    "    }\n",
    "    mat_perc_cells2[i, j] <- count2/nboot\n",
    "    \n",
    "#     Simulation mean \n",
    "    mean_mat[i, j] <- mean(P_count)\n",
    "    noise_mat[i, j] <- var(P_count)/(mean(P_count)^2)\n",
    "  }\n",
    "}"
   ]
  },
  {
   "cell_type": "markdown",
   "metadata": {},
   "source": [
    "### Plot heatmap"
   ]
  },
  {
   "cell_type": "code",
   "execution_count": null,
   "metadata": {},
   "outputs": [],
   "source": [
    "# Data frame for the noise-space data\n",
    "dat.plot <- data.frame(mean = c(mean_mat[(1:burst_size_lim), ]), \n",
    "                       noise = c(noise_mat[(1:burst_size_lim), ]), \n",
    "                       perc_cells = c(mat_perc_cells2[(1:burst_size_lim), ])*100)\n",
    "\n",
    "# Empty plot\n",
    "p <- ggplot()\n",
    "# Variables for model lines\n",
    "slope.vec <- intercept.vec <- rep(0, length(burst_size))\n",
    "for( i in (1:burst_size_lim) ){\n",
    "    \n",
    "    # Compute model line\n",
    "    dat <- data.frame(x = log10(mean_mat[i, ]), y = log10(noise_mat[i, ]))\n",
    "    mdl <- lm(y ~ x, data = dat)\n",
    "    intercept.vec[i] <- intercept <- mdl$coefficients[1]\n",
    "    slope.vec[i] <- slope <- mdl$coefficients[2]\n",
    "    \n",
    "    # Plot model line\n",
    "    p <- p + geom_abline(intercept = intercept, slope = slope, linetype = 2,\n",
    "                           size = 0.4, color = \"gray30\")\n",
    "}\n",
    "\n",
    "# Annotate untreated\n",
    "p <- p + geom_text(data = data.frame(x = mean_mat[4, 6]*10^0.15,\n",
    "                                     y = noise_mat[4, 6]*10^0.015, label = \"Untreated\"), \n",
    "                   mapping = aes(x = x, y = y, label = label), color = \"blue\", size = 3, \n",
    "                   angle = atan(slope.vec[4])*180/pi - 10)\n",
    "\n",
    "# Fill points by percentage of cells crossing active replication threshold\n",
    "p <- p + geom_point(data = dat.plot, mapping = aes(x = mean, y = noise, fill = perc_cells), \n",
    "                    size = 3, alpha = 1, colour=\"black\", pch = 21) +\n",
    "  theme_bw() + scale_fill_gradient2(low=\"white\", mid = \"blue\", high=\"red\", \n",
    "                                    midpoint = 50, name = \"%cells\")\n",
    "\n",
    "# Annotate model lines by burst size values\n",
    "for( i in (1:burst_size_lim) ){\n",
    "  if( i != 1 ){\n",
    "    if( i != 3 & i != 5 ){\n",
    "      p <- p + geom_text(data = data.frame(x = mean_mat[i, 2]*10^0.2, y = noise_mat[i, 2]), \n",
    "                         label = TeX(sprintf('burst size = %d$', burst_size[i])),\n",
    "                         mapping = aes(x = x, y = y, label = label), color = \"black\", size = 3, \n",
    "                         angle = atan(slope.vec[i])*180/pi - 10)\n",
    "    }else{\n",
    "      p <- p + geom_text(data = data.frame(x = mean_mat[i, 2]*10^-0.2, y = noise_mat[i, 2]), \n",
    "                         label = TeX(sprintf('burst size = %d$', burst_size[i])),\n",
    "                         mapping = aes(x = x, y = y, label = label), color = \"black\", size = 3, \n",
    "                         angle = atan(slope.vec[i])*180/pi - 10)\n",
    "    }\n",
    "  }else{\n",
    "    p <- p + geom_text(data = data.frame(x = mean_mat[i, 4]*10^0.2, y = noise_mat[i, 4]), \n",
    "                       label = TeX(sprintf('burst size = %d$', burst_size[i])),\n",
    "                       mapping = aes(x = x, y = y, label = label), color = \"black\", size = 3, \n",
    "                       angle = atan(slope.vec[i])*180/pi - 10)\n",
    "  }\n",
    "}\n",
    "\n",
    "# changes axes to log10 scale\n",
    "p <- p + scale_x_log10(breaks = trans_breaks(\"log10\", function(x) 10^x),\n",
    "                       labels = trans_format(\"log10\", math_format(10^.x))) +\n",
    "  scale_y_log10(breaks = trans_breaks(\"log10\", function(x) 10^x),\n",
    "                labels = trans_format(\"log10\", math_format(10^.x))) +\n",
    "  annotation_logticks() \n",
    "# + coord_cartesian(ylim=c(0.01,10))\n",
    "\n",
    "\n",
    "# Remove white space between the plot and the axes\n",
    "# p <- p + \n",
    "#   scale_x_continuous(limits = c(10^4.8,10^5.8), expand = c(0, 0)) +\n",
    "#   scale_y_continuous(limits = c(10^-2,10^0.3), expand = c(0, 0))\n",
    "\n",
    "# Add axes labels\n",
    "p <- p + xlab(TeX('$<Gene\\\\; product>$')) + \n",
    "  ylab(TeX('$CV^2$'))\n",
    "\n",
    "\n",
    "\n",
    "# Adjust font sizes for the title and the axes\n",
    "p <- p + \n",
    "  theme(plot.title = element_text(size = 16, color = \"black\", face=\"bold.italic\"), \n",
    "        axis.title.x = element_text(size = 14, colour = \"black\", face = \"bold\"), \n",
    "        axis.title.y = element_text(size = 14, colour = \"black\", face = \"bold\"), \n",
    "        axis.text.x = element_text(size = 13, colour = \"black\"), \n",
    "        axis.text.y = element_text(size = 13, colour = \"black\"), \n",
    "        panel.background = element_blank(), \n",
    "        axis.line.y = element_line(color = \"black\"), axis.line.x = element_line(color = \"black\"),\n",
    "        # panel.grid.major = element_blank(), panel.grid.minor = element_blank(), \n",
    "        legend.title = element_text(color = \"black\", size = 16), \n",
    "        legend.text = element_text(color = \"black\", size = 14))\n",
    "# save_plot(\"Plot_perc_cells_noise_space_any_crossing_burst_size_change_by_k_m.png\", \n",
    "#           p, base_height = 4, base_width = 6)\n",
    "# print(p)\n",
    "save_plot(\"A_temp_plot.png\", \n",
    "          p, base_height = 4, base_width = 6)"
   ]
  }
 ],
 "metadata": {
  "kernelspec": {
   "display_name": "R",
   "language": "R",
   "name": "ir"
  },
  "language_info": {
   "codemirror_mode": "r",
   "file_extension": ".r",
   "mimetype": "text/x-r-source",
   "name": "R",
   "pygments_lexer": "r",
   "version": "4.0.5"
  }
 },
 "nbformat": 4,
 "nbformat_minor": 2
}
